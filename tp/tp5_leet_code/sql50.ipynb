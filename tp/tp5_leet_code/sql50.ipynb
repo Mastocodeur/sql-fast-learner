{
 "cells": [
  {
   "cell_type": "markdown",
   "metadata": {},
   "source": [
    "# SQL 50\n",
    "\n",
    "Ce notebook permets de réaliser tous les exercices SQL types entretiens"
   ]
  },
  {
   "cell_type": "markdown",
   "metadata": {},
   "source": [
    "___________________"
   ]
  },
  {
   "cell_type": "markdown",
   "metadata": {},
   "source": [
    "## 📍Les exos Select"
   ]
  },
  {
   "cell_type": "markdown",
   "metadata": {},
   "source": [
    "##### 1757. Recyclable and Low Fat Products"
   ]
  },
  {
   "cell_type": "markdown",
   "metadata": {},
   "source": [
    "<details>\n",
    "  <summary>Enoncé</summary>\n",
    "  \n",
    " Table: Products\n",
    "\n",
    "  ![table](images/exo1_table.png)\n",
    "\n",
    "  product_id is the primary key (column with unique values) for this table.\n",
    "  low_fats is an ENUM (category) of type ('Y', 'N') where 'Y' means this product is low fat and 'N' means it is not.\n",
    "  recyclable is an ENUM (category) of types ('Y', 'N') where 'Y' means this product is recyclable and 'N' means it is not.\n",
    "\n",
    "  Write a solution to find the ids of products that are both low fat and recyclable.\n",
    "\n",
    "  Return the result table in any order.\n",
    "\n",
    "  ![table](images/exo1_exemple_1.png)\n",
    "</details>"
   ]
  },
  {
   "cell_type": "markdown",
   "metadata": {},
   "source": [
    "<details>\n",
    "  <summary>Réponse </summary>\n",
    "  \n",
    "  SELECT product_id\n",
    "\n",
    "  FROM Products \n",
    "  \n",
    "  WHERE low_fats = \"Y\" AND recyclable = \"Y\";\n",
    "</details>"
   ]
  },
  {
   "cell_type": "markdown",
   "metadata": {},
   "source": [
    "##### 584. Find Customer Referee"
   ]
  },
  {
   "cell_type": "markdown",
   "metadata": {},
   "source": [
    "<details>\n",
    "  <summary>Enoncé</summary>\n",
    "  \n",
    "  Table: Customer\n",
    "    \n",
    "  ![table](images/exo2_table.png)\n",
    "  \n",
    "  In SQL, id is the primary key column for this table.\n",
    "  Each row of this table indicates the id of a customer, their name, and the id of the customer who referred them.\n",
    "  \n",
    "  Find the names of the customer that are not referred by the customer with id = 2.\n",
    "  \n",
    "  Return the result table in any order.\n",
    "  \n",
    "  The result format is in the following example.\n",
    "\n",
    "  \n",
    "\n",
    "\n",
    "  ![table](images/exo2_exemple_2.png)\n",
    "</details>"
   ]
  },
  {
   "cell_type": "markdown",
   "metadata": {},
   "source": [
    "<details>\n",
    "  <summary>Réponse </summary>\n",
    "  \n",
    "    SELECT name\n",
    "    FROM Customer\n",
    "    WHERE referee_id != 2 OR referee_id IS NULL;\n",
    "</details>"
   ]
  },
  {
   "cell_type": "markdown",
   "metadata": {},
   "source": [
    "##### 595. Big Countries"
   ]
  },
  {
   "cell_type": "markdown",
   "metadata": {},
   "source": [
    "<details>\n",
    "  <summary>Enoncé</summary>\n",
    "  \n",
    " Table: World\n",
    "\n",
    "  ![table](images/exo3_table.jpg)\n",
    "\n",
    "  name is the primary key (column with unique values) for this table.\n",
    "  Each row of this table gives information about the name of a country, the continent to which it belongs, its area, the population, and its GDP value.\n",
    "  \n",
    "\n",
    "  A country is big if:\n",
    "\n",
    "  it has an area of at least three million (i.e., 3000000 km2), or\n",
    "  it has a population of at least twenty-five million (i.e., 25000000).\n",
    "  Write a solution to find the name, population, and area of the big countries.\n",
    "\n",
    "  Return the result table in any order.\n",
    "\n",
    "  The result format is in the following example.\n",
    "\n",
    "  ![table](images/exo3_exemple.jpg)\n",
    "</details>"
   ]
  },
  {
   "cell_type": "markdown",
   "metadata": {},
   "source": [
    "<details>\n",
    "  <summary>Réponse </summary>\n",
    "  \n",
    "    SELECT name, population, area\n",
    "    FROM World\n",
    "    WHERE area >= 3000000 OR population >= 25000000;\n",
    "</details>"
   ]
  },
  {
   "cell_type": "markdown",
   "metadata": {},
   "source": [
    "##### 1148. Article Views I"
   ]
  },
  {
   "cell_type": "markdown",
   "metadata": {},
   "source": [
    "<details>\n",
    "  <summary>Enoncé</summary>\n",
    "  \n",
    "   Table: Views\n",
    "\n",
    "  ![table](images/exo4_table.jpg)\n",
    "\n",
    "  There is no primary key (column with unique values) for this table, the table may have duplicate rows.\n",
    "  Each row of this table indicates that some viewer viewed an article (written by some author) on some date. \n",
    "  Note that equal author_id and viewer_id indicate the same person.\n",
    "    \n",
    "\n",
    "   Write a solution to find all the authors that viewed at least one of their own articles.\n",
    "\n",
    "   Return the result table sorted by `id` in ascending order. The result format is in the following example\n",
    "\n",
    "  ![table](images/exo4_exemple.jpg)\n",
    "</details>"
   ]
  },
  {
   "cell_type": "markdown",
   "metadata": {},
   "source": [
    "<details>\n",
    "  <summary>Réponse </summary>\n",
    "  \n",
    "    SELECT DISTINCT author_id as id\n",
    "    FROM Views\n",
    "    WHERE author_id = viewer_id\n",
    "    ORDER BY id;\n",
    "</details>"
   ]
  },
  {
   "cell_type": "markdown",
   "metadata": {},
   "source": [
    "##### 1683. Invalid Tweets"
   ]
  },
  {
   "cell_type": "markdown",
   "metadata": {},
   "source": [
    "<details>\n",
    "  <summary>Enoncé</summary>\n",
    "  \n",
    "   Table: Tweets\n",
    "\n",
    "  ![table](images/exo5_table.jpg)\n",
    "\n",
    "  tweet_id is the primary key (column with unique values) for this table.\n",
    "  content consists of characters on an American Keyboard, and no other special characters.\n",
    "  This table contains all the tweets in a social media app.\n",
    " \n",
    "\n",
    "  Write a solution to find the IDs of the invalid tweets. The tweet is invalid if the number of characters used in the content of the tweet is strictly greater than `15`.\n",
    "\n",
    "  Return the result table in any order.\n",
    "\n",
    "  The result format is in the following example\n",
    "\n",
    "  ![table](images/exo5_exemple.jpg)\n",
    "</details>"
   ]
  },
  {
   "cell_type": "markdown",
   "metadata": {},
   "source": [
    "<details>\n",
    "  <summary>Réponse </summary>\n",
    "  \n",
    "    SELECT tweet_id\n",
    "    FROM Tweets\n",
    "    WHERE LENGTH(content)>15;\n",
    "</details>"
   ]
  },
  {
   "cell_type": "markdown",
   "metadata": {},
   "source": [
    "___________"
   ]
  },
  {
   "cell_type": "markdown",
   "metadata": {},
   "source": [
    "## 🔗Basic Joins"
   ]
  },
  {
   "cell_type": "markdown",
   "metadata": {},
   "source": [
    "##### 1378. Replace Employee ID With The Unique Identifier"
   ]
  },
  {
   "cell_type": "markdown",
   "metadata": {},
   "source": [
    "<details>\n",
    "  <summary>Enoncé</summary>\n",
    "  \n",
    "   Table: Employees\n",
    "\n",
    "  ![table](images/exo6_table1.jpg)\n",
    "\n",
    "  id is the primary key (column with unique values) for this table.\n",
    "  Each row of this table contains the id and the name of an employee in a company.\n",
    "\n",
    "   Table: EmployeeUNI\n",
    "\n",
    "   ![table](images/exo6_table2.jpg)\n",
    "\n",
    "  (id, unique_id) is the primary key (combination of columns with unique values) for this table.\n",
    "  Each row of this table contains the id and the corresponding unique id of an employee in the company.\n",
    "\n",
    "  Write a solution to show the unique ID of each user, If a user does not have a unique ID replace just show null.\n",
    "\n",
    "  Return the result table in any order.\n",
    "\n",
    "  The result format is in the following example.\n",
    "\n",
    "  ![table](images/exo6_exemple1.jpg)\n",
    "  ![table](images/exo6_exemple2.jpg)\n",
    "\n",
    "</details>"
   ]
  },
  {
   "cell_type": "markdown",
   "metadata": {},
   "source": [
    "<details>\n",
    "  <summary>Réponse </summary>\n",
    "  \n",
    "    SELECT e.name, eu.unique_id\n",
    "    FROM Employees e\n",
    "    LEFT JOIN EmployeeUNI eu\n",
    "    ON e.id = eu.id;\n",
    "</details>"
   ]
  },
  {
   "cell_type": "markdown",
   "metadata": {},
   "source": [
    "##### 1068. Product Sales Analysis I"
   ]
  },
  {
   "cell_type": "markdown",
   "metadata": {},
   "source": [
    "<details>\n",
    "  <summary>Enoncé</summary>\n",
    "  \n",
    "   Table: Sales\n",
    "\n",
    "  ![table](images/exo7_table1.jpg)\n",
    "\n",
    "  (sale_id, year) is the primary key (combination of columns with unique values) of this table.\n",
    "   product_id is a foreign key (reference column) to Product table.\n",
    "   Each row of this table shows a sale on the product product_id in a certain year.\n",
    "   Note that the price is per unit.\n",
    "\n",
    "   Table: Product\n",
    "\n",
    "   ![table](images/exo7_table2.jpg)\n",
    "\n",
    "  product_id is the primary key (column with unique values) of this table.\n",
    "  Each row of this table indicates the product name of each product.\n",
    "\n",
    "  Write a solution to report the `product_name`, `year`, and `price` for each `sale_id` in the Sales table.\n",
    "\n",
    "  Return the resulting table in any order.\n",
    "\n",
    "  The result format is in the following example.\n",
    "\n",
    "  ![table](images/exo7_exemple1.jpg)\n",
    "  ![table](images/exo7_exemple2.jpg)\n",
    "\n",
    "</details>"
   ]
  },
  {
   "cell_type": "markdown",
   "metadata": {},
   "source": [
    "<details>\n",
    "  <summary>Réponse </summary>\n",
    "  \n",
    "    SELECT p.product_name, s.year, s.price\n",
    "    FROM Product p\n",
    "    RIGHT JOIN Sales s\n",
    "    ON p.product_id = s.product_id;\n",
    "</details>"
   ]
  },
  {
   "cell_type": "markdown",
   "metadata": {},
   "source": [
    "##### 1581. Customer Who Visited but Did Not Make Any Transactions"
   ]
  },
  {
   "cell_type": "markdown",
   "metadata": {},
   "source": [
    "<details>\n",
    "  <summary>Enoncé</summary>\n",
    "  \n",
    "   Table: Visits\n",
    "\n",
    "  ![table](images/exo8_table1.jpg)\n",
    "\n",
    "  visit_id is the column with unique values for this table.\n",
    "  This table contains information about the customers who visited the mall\n",
    "\n",
    "   Table: Transaction\n",
    "\n",
    "   ![table](images/exo8_table2.jpg)\n",
    "\n",
    "  transaction_id is column with unique values for this table.\n",
    "  This table contains information about the transactions made during the visit_id. \n",
    "\n",
    "  Write a solution to find the IDs of the users who visited without making any transactions and the number of times they made these types of visits.\n",
    "\n",
    "  Return the result table sorted in any order.\n",
    "\n",
    "  The result format is in the following example.\n",
    "\n",
    "  ![table](images/exo8_exemple1.jpg)\n",
    "  ![table](images/exo8_exemple2.jpg)\n",
    "\n",
    "</details>"
   ]
  },
  {
   "cell_type": "markdown",
   "metadata": {},
   "source": [
    "<details>\n",
    "  <summary>Réponse </summary>\n",
    "  \n",
    "    SELECT v.customer_id, COUNT(v.visit_id) AS count_no_trans\n",
    "    FROM Visits v\n",
    "    LEFT JOIN Transactions t\n",
    "    ON v.visit_id = t.visit_id\n",
    "    WHERE t.transaction_id IS NULL\n",
    "    GROUP BY v.customer_id;\n",
    "</details>"
   ]
  },
  {
   "cell_type": "markdown",
   "metadata": {},
   "source": [
    "##### 197. Rising Temperature"
   ]
  },
  {
   "cell_type": "markdown",
   "metadata": {},
   "source": [
    "<details>\n",
    "  <summary>Enoncé</summary>\n",
    "  \n",
    "   Table: Weather\n",
    "\n",
    "  ![table](images/exo9_table.jpg)\n",
    "\n",
    "  id is the column with unique values for this table.\n",
    "  There are no different rows with the same recordDate.\n",
    "  This table contains information about the temperature on a certain day.\n",
    "\n",
    "   Write a solution to find all dates' id with higher temperatures compared to its previous dates (yesterday).\n",
    "\n",
    "   Return the result table in any order.\n",
    "\n",
    "   The result format is in the following example.\n",
    "\n",
    "  ![table](images/exo9_exemple.jpg)\n",
    "\n",
    "</details>"
   ]
  },
  {
   "cell_type": "markdown",
   "metadata": {},
   "source": [
    "<details>\n",
    "  <summary>Réponse </summary>\n",
    "  \n",
    "    SELECT w.id\n",
    "    FROM Weather w\n",
    "    LEFT JOIN Weather w1\n",
    "    ON w.recordDate = DATE_ADD(w1.recordDate, INTERVAL 1 DAY)\n",
    "    WHERE w.temperature>w1.temperature;\n",
    "\n",
    "   OU\n",
    "    \n",
    "    SELECT w1.id\n",
    "    FROM Weather w1, Weather w2\n",
    "    WHERE DATEDIFF(w1.recordDate, w2.recordDate) = 1 AND w1.temperature > w2.temperature;\n",
    "</details>"
   ]
  },
  {
   "cell_type": "markdown",
   "metadata": {},
   "source": [
    "##### 1661. Average Time of Process per Machine"
   ]
  },
  {
   "cell_type": "markdown",
   "metadata": {},
   "source": [
    "<details>\n",
    "  <summary>Enoncé</summary>\n",
    "  \n",
    "   Table: Activity\n",
    "\n",
    "  ![table](images/exo10_table.jpg)\n",
    "\n",
    "  The table shows the user activities for a factory website.\n",
    "  (machine_id, process_id, activity_type) is the primary key (combination of columns with unique values) of this table.\n",
    "  machine_id is the ID of a machine.\n",
    "  process_id is the ID of a process running on the machine with ID machine_id.\n",
    "  activity_type is an ENUM (category) of type ('start', 'end').\n",
    "  timestamp is a float representing the current time in seconds.\n",
    "  'start' means the machine starts the process at the given timestamp and 'end' means the machine ends the process at the given timestamp.\n",
    "  The 'start' timestamp will always be before the 'end' timestamp for every (machine_id, process_id) pair.\n",
    "  It is guaranteed that each (machine_id, process_id) pair has a 'start' and 'end' timestamp.\n",
    "\n",
    "  There is a factory website that has several machines each running the same number of processes. Write a solution to find the average time each machine takes to complete a process.\n",
    "\n",
    "  The time to complete a process is the 'end' timestamp minus the 'start' timestamp. The average time is calculated by the total time to complete every process on the machine divided by the number of processes that were run.\n",
    "\n",
    "  The resulting table should have the machine_id along with the average time as processing_time, which should be rounded to 3 decimal places.\n",
    "\n",
    "  Return the result table in any order.\n",
    "\n",
    "  The result format is in the following example.\n",
    "\n",
    "  ![table](images/exo10_exemple1.jpg)\n",
    "\n",
    "  ![table](images/exo10_exemple2.jpg)\n",
    "\n",
    "</details>"
   ]
  },
  {
   "cell_type": "markdown",
   "metadata": {},
   "source": [
    "<details>\n",
    "  <summary>Réponse </summary>\n",
    "  \n",
    "    SELECT a.machine_id, ROUND(AVG(a2.timestamp-a.timestamp),3) as processing_time\n",
    "    FROM Activity a, Activity a2\n",
    "    WHERE a.machine_id = a2.machine_id AND a.activity_type = 'start' AND a2.activity_type = 'end'\n",
    "    GROUP BY machine_id\n",
    "\n",
    "   OU\n",
    "    \n",
    "    # Write your MySQL query statement below\n",
    "    SELECT a.machine_id, ROUND(AVG(b.timestamp-a.timestamp),3) AS processing_time\n",
    "    FROM Activity a\n",
    "    JOIN Activity b\n",
    "    ON a.machine_id = b.machine_id\n",
    "    AND a.process_id = b.process_id\n",
    "    AND a.activity_type = 'start'\n",
    "    AND b.activity_type = 'end'\n",
    "    GROUP BY machine_id;\n",
    "</details>"
   ]
  },
  {
   "cell_type": "markdown",
   "metadata": {},
   "source": [
    "##### 577. Employee Bonus"
   ]
  },
  {
   "cell_type": "markdown",
   "metadata": {},
   "source": [
    "<details>\n",
    "  <summary>Enoncé</summary>\n",
    "  \n",
    "   Table: Employee\n",
    "\n",
    "  ![table](images/exo11_table1.jpg)\n",
    "\n",
    "  empId is the column with unique values for this table.\n",
    "  Each row of this table indicates the name and the ID of an employee in addition to their salary and the id of their manager.\n",
    "\n",
    "    Table: Bonus\n",
    "\n",
    "  ![table](images/exo11_table2.jpg)\n",
    "\n",
    "  empId is the column of unique values for this table.\n",
    "  empId is a foreign key (reference column) to empId from the Employee table.\n",
    "  Each row of this table contains the id of an employee and their respective bonus.\n",
    "\n",
    "   Write a solution to report the name and bonus amount of each employee with a bonus less than 1000.\n",
    "\n",
    "   Return the result table in any order.\n",
    "\n",
    "   The result format is in the following example.\n",
    "\n",
    "  ![table](images/exo11_exemple.jpg)\n",
    "\n",
    "</details>"
   ]
  },
  {
   "cell_type": "markdown",
   "metadata": {},
   "source": [
    "<details>\n",
    "  <summary>Réponse </summary>\n",
    "  \n",
    "    SELECT e.name, b.bonus\n",
    "    FROM Employee e\n",
    "    LEFT JOIN Bonus b\n",
    "    ON e.empId = b.empId\n",
    "    WHERE b.bonus < 1000 OR b.bonus IS NULL;\n",
    "\n",
    "</details>"
   ]
  },
  {
   "cell_type": "markdown",
   "metadata": {},
   "source": [
    "##### 1280. Students and Examinations"
   ]
  },
  {
   "cell_type": "markdown",
   "metadata": {},
   "source": [
    "<details>\n",
    "  <summary>Enoncé</summary>\n",
    "  \n",
    "   Table: Students\n",
    "\n",
    "  ![table](images/exo12_table1.jpg)\n",
    "\n",
    "  student_id is the primary key (column with unique values) for this table.\n",
    "  Each row of this table contains the ID and the name of one student in the school.\n",
    "\n",
    "    Table: Subjects\n",
    "\n",
    "  ![table](images/exo12_table2.jpg)\n",
    "\n",
    "  subject_name is the primary key (column with unique values) for this table.\n",
    "  Each row of this table contains the name of one subject in the school.\n",
    "\n",
    "  Table: Examinations\n",
    "\n",
    "  ![table](images/exo12_table3.jpg)\n",
    "\n",
    "  There is no primary key (column with unique values) for this table. It may contain duplicates.\n",
    "  Each student from the Students table takes every course from the Subjects table.\n",
    "  Each row of this table indicates that a student with ID student_id attended the exam of subject_name.\n",
    "\n",
    "   Write a solution to find the number of times each student attended each exam.\n",
    "\n",
    "   Return the result table ordered by student_id and subject_name.\n",
    "\n",
    "   The result format is in the following example.\n",
    "\n",
    "  ![table](images/exo12_example1.jpg)\n",
    "\n",
    "  ![table](images/exo12_example2.jpg)\n",
    "\n",
    "  ![table](images/exo12_example3.jpg)\n",
    "\n",
    "</details>"
   ]
  },
  {
   "cell_type": "markdown",
   "metadata": {},
   "source": [
    "<details>\n",
    "  <summary>Réponse </summary>\n",
    "  \n",
    "    SELECT s.student_id,s.student_name,su.subject_name,COUNT(e.student_id) AS attended_exams\n",
    "    FROM Students s\n",
    "    CROSS JOIN Subjects su\n",
    "    LEFT JOIN Examinations e\n",
    "    ON s.student_id = e.student_id AND su.subject_name = e.subject_name\n",
    "    GROUP BY s.student_id, s.student_name, su.subject_name\n",
    "    ORDER BY s.student_id, su.subject_name;\n",
    "\n",
    "</details>"
   ]
  },
  {
   "cell_type": "markdown",
   "metadata": {},
   "source": [
    "##### 570. Managers with at Least 5 Direct Reports"
   ]
  },
  {
   "cell_type": "markdown",
   "metadata": {},
   "source": [
    "<details>\n",
    "  <summary>Enoncé</summary>\n",
    "  \n",
    "   Table: Employee\n",
    "\n",
    "  ![table](images/exo13_table.jpg)\n",
    "\n",
    "  id is the primary key (column with unique values) for this table.\n",
    "  Each row of this table indicates the name of an employee, their department, and the id of their manager.\n",
    "  If managerId is null, then the employee does not have a manager.\n",
    "  No employee will be the manager of themself. \n",
    "\n",
    "\n",
    "   Write a solution to find managers with at least five direct reports.\n",
    "\n",
    "   Return the result table in any order.\n",
    "\n",
    "   The result format is in the following example.\n",
    "\n",
    "  ![table](images/exo13_exemple.jpg)\n",
    "\n",
    "</details>"
   ]
  },
  {
   "cell_type": "markdown",
   "metadata": {},
   "source": [
    "<details>\n",
    "  <summary>Réponse </summary>\n",
    "  \n",
    "    SELECT e.name\n",
    "    FROM Employee e\n",
    "    JOIN Employee m\n",
    "    ON e.id = m.managerId\n",
    "    GROUP BY e.id, e.name\n",
    "    HAVING COUNT(e.id) >= 5;\n",
    "\n",
    "</details>"
   ]
  },
  {
   "cell_type": "markdown",
   "metadata": {},
   "source": [
    "##### 1934. Confirmation Rate"
   ]
  },
  {
   "cell_type": "markdown",
   "metadata": {},
   "source": [
    "<details>\n",
    "  <summary>Enoncé</summary>\n",
    "  \n",
    "   Table: Signups\n",
    "\n",
    "  ![table](images/exo14_table1.jpg)\n",
    "\n",
    "  user_id is the column of unique values for this table.\n",
    "  Each row contains information about the signup time for the user with ID user_id.\n",
    "\n",
    "  Table: Confirmations\n",
    "\n",
    "  ![table](images/exo14_table2.jpg)\n",
    "\n",
    "  (user_id, time_stamp) is the primary key (combination of columns with unique values) for this table.\n",
    "  user_id is a foreign key (reference column) to the Signups table.\n",
    "  action is an ENUM (category) of the type ('confirmed', 'timeout')\n",
    "  Each row of this table indicates that the user with ID user_id requested a confirmation message at time_stamp and that confirmation message was either confirmed ('confirmed') or expired without confirming ('timeout').\n",
    "\n",
    "   The confirmation rate of a user is the number of 'confirmed' messages divided by the total number of requested confirmation messages. The confirmation rate of a user that did not request any confirmation messages is 0. Round the confirmation rate to two decimal places.\n",
    "\n",
    "   Write a solution to find the confirmation rate of each user.\n",
    "\n",
    "   Return the result table in any order.\n",
    "\n",
    "   The result format is in the following example.\n",
    "\n",
    "  ![table](images/exo14_example1.jpg)\n",
    "\n",
    "  ![table](images/exo14_example2.jpg)\n",
    "\n",
    "</details>"
   ]
  },
  {
   "cell_type": "markdown",
   "metadata": {},
   "source": [
    "<details>\n",
    "  <summary>Réponse </summary>\n",
    "  \n",
    "    SELECT \n",
    "    s.user_id, \n",
    "    COALESCE(ROUND(\n",
    "        COALESCE(SUM(CASE WHEN c.action = 'confirmed' THEN 1 ELSE 0 END), 0) \n",
    "        / NULLIF(COUNT(c.action), 0), \n",
    "        2\n",
    "    ),0) AS confirmation_rate\n",
    "    FROM \n",
    "        Signups s\n",
    "    LEFT JOIN \n",
    "        Confirmations c\n",
    "    ON \n",
    "        s.user_id = c.user_id\n",
    "    GROUP BY \n",
    "        s.user_id;\n",
    "\n",
    "   OR\n",
    "\n",
    "    SELECT s.user_id, round(avg(if(c.action=\"confirmed\",1,0)),2) as confirmation_rate\n",
    "    FROM Signups as s \n",
    "    LEFT JOIN Confirmations as c \n",
    "    ON s.user_id= c.user_id \n",
    "    GROUP BY user_id;\n",
    "\n",
    "</details>"
   ]
  },
  {
   "cell_type": "markdown",
   "metadata": {},
   "source": [
    "______________"
   ]
  },
  {
   "cell_type": "markdown",
   "metadata": {},
   "source": [
    "## Basic Aggregate Functions"
   ]
  },
  {
   "cell_type": "markdown",
   "metadata": {},
   "source": []
  }
 ],
 "metadata": {
  "language_info": {
   "name": "python"
  }
 },
 "nbformat": 4,
 "nbformat_minor": 2
}
