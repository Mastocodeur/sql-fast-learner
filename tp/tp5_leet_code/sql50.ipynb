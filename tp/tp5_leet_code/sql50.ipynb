{
 "cells": [
  {
   "cell_type": "markdown",
   "metadata": {},
   "source": [
    "# SQL 50\n",
    "\n",
    "Ce notebook permets de réaliser tous les exercices SQL types entretiens"
   ]
  },
  {
   "cell_type": "markdown",
   "metadata": {},
   "source": [
    "#### 📍Les exos Select"
   ]
  },
  {
   "cell_type": "markdown",
   "metadata": {},
   "source": [
    "##### 1757. Recyclable and Low Fat Products"
   ]
  },
  {
   "cell_type": "markdown",
   "metadata": {},
   "source": [
    "<details>\n",
    "  <summary>Enoncé</summary>\n",
    "  \n",
    " Table: Products\n",
    "\n",
    "  ![table](images/exo1_table.png)\n",
    "\n",
    "  product_id is the primary key (column with unique values) for this table.\n",
    "  low_fats is an ENUM (category) of type ('Y', 'N') where 'Y' means this product is low fat and 'N' means it is not.\n",
    "  recyclable is an ENUM (category) of types ('Y', 'N') where 'Y' means this product is recyclable and 'N' means it is not.\n",
    "\n",
    "  Write a solution to find the ids of products that are both low fat and recyclable.\n",
    "\n",
    "  Return the result table in any order.\n",
    "\n",
    "  ![table](images/exo1_exemple_1.png)\n",
    "</details>"
   ]
  },
  {
   "cell_type": "markdown",
   "metadata": {},
   "source": [
    "<details>\n",
    "  <summary>Réponse </summary>\n",
    "  \n",
    "  SELECT product_id\n",
    "\n",
    "  FROM Products \n",
    "  \n",
    "  WHERE low_fats = \"Y\" AND recyclable = \"Y\";\n",
    "</details>"
   ]
  },
  {
   "cell_type": "markdown",
   "metadata": {},
   "source": [
    "##### 584. Find Customer Referee"
   ]
  },
  {
   "cell_type": "markdown",
   "metadata": {},
   "source": [
    "<details>\n",
    "  <summary>Enoncé</summary>\n",
    "  \n",
    "  Table: Customer\n",
    "    \n",
    "  ![table](images/exo2_table.png)\n",
    "  \n",
    "  In SQL, id is the primary key column for this table.\n",
    "  Each row of this table indicates the id of a customer, their name, and the id of the customer who referred them.\n",
    "  \n",
    "  Find the names of the customer that are not referred by the customer with id = 2.\n",
    "  \n",
    "  Return the result table in any order.\n",
    "  \n",
    "  The result format is in the following example.\n",
    "\n",
    "  \n",
    "\n",
    "\n",
    "  ![table](images/exo2_exemple_2.png)\n",
    "</details>"
   ]
  },
  {
   "cell_type": "markdown",
   "metadata": {},
   "source": [
    "<details>\n",
    "  <summary>Réponse </summary>\n",
    "  \n",
    "  SELECT product_id\n",
    "\n",
    "  FROM Products \n",
    "  \n",
    "  WHERE low_fats = \"Y\" AND recyclable = \"Y\";\n",
    "</details>"
   ]
  },
  {
   "cell_type": "markdown",
   "metadata": {},
   "source": []
  }
 ],
 "metadata": {
  "language_info": {
   "name": "python"
  }
 },
 "nbformat": 4,
 "nbformat_minor": 2
}
