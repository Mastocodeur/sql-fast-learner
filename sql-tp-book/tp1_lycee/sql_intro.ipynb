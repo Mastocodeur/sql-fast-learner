{
 "cells": [
  {
   "cell_type": "markdown",
   "id": "39197dbf-6d7f-45f5-b12d-604e713c574b",
   "metadata": {},
   "source": [
    "# <center>TP Prise en main SQL/Python </center>"
   ]
  },
  {
   "cell_type": "markdown",
   "id": "c699d4d9-12cc-43e5-9644-ecfb6eba6398",
   "metadata": {},
   "source": [
    "<div style=\"text-align: center;\">\n",
    "    <img src=\"../images/sqlbase.png\" width=\"600\" height=\"300\">\n",
    "</div>"
   ]
  },
  {
   "cell_type": "markdown",
   "id": "50dd6b1a-c82e-4db8-abba-672a4794a37a",
   "metadata": {},
   "source": [
    "___"
   ]
  },
  {
   "cell_type": "markdown",
   "id": "b49442aa-4440-49b0-9b77-e0a5691868f4",
   "metadata": {},
   "source": [
    "Il existe deux manières de taper des lignes de commandes SQL dans un Jupyter Notebook : \n",
    "- avec des décorateurs pour taper directement des lignes de commandes sql\n",
    "- avec des queries"
   ]
  },
  {
   "cell_type": "markdown",
   "id": "c647163c-79c8-4f7d-b91d-7a8f3fafdc6a",
   "metadata": {},
   "source": [
    "# Avec les décorateurs "
   ]
  },
  {
   "cell_type": "code",
   "execution_count": 1,
   "id": "6781c9e5-319b-47ea-8949-e21ef731c216",
   "metadata": {},
   "outputs": [],
   "source": [
    "%load_ext sql"
   ]
  },
  {
   "cell_type": "code",
   "execution_count": 2,
   "id": "743794f5-fb11-4f2f-b64d-bead190f0dcb",
   "metadata": {},
   "outputs": [],
   "source": [
    "%config SqlMagic.autocommit = True\n",
    "%sql sqlite:///liste_eleve.sqlite"
   ]
  },
  {
   "cell_type": "code",
   "execution_count": 3,
   "id": "3ead8f4e",
   "metadata": {},
   "outputs": [
    {
     "name": "stdout",
     "output_type": "stream",
     "text": [
      " * sqlite:///liste_eleve.sqlite\n"
     ]
    }
   ],
   "source": [
    "%sql"
   ]
  },
  {
   "cell_type": "code",
   "execution_count": 4,
   "id": "0374dff1",
   "metadata": {},
   "outputs": [
    {
     "name": "stdout",
     "output_type": "stream",
     "text": [
      " * sqlite:///liste_eleve.sqlite\n",
      "Done.\n"
     ]
    },
    {
     "data": {
      "text/html": [
       "<table>\n",
       "    <thead>\n",
       "        <tr>\n",
       "            <th>name</th>\n",
       "        </tr>\n",
       "    </thead>\n",
       "    <tbody>\n",
       "        <tr>\n",
       "            <td>liste_eleve</td>\n",
       "        </tr>\n",
       "    </tbody>\n",
       "</table>"
      ],
      "text/plain": [
       "[('liste_eleve',)]"
      ]
     },
     "execution_count": 4,
     "metadata": {},
     "output_type": "execute_result"
    }
   ],
   "source": [
    "%%sql\n",
    "SELECT name FROM sqlite_master WHERE type='table';\n"
   ]
  },
  {
   "cell_type": "code",
   "execution_count": 5,
   "id": "69e2d079-10b1-413c-8cbb-54b13c62df8c",
   "metadata": {},
   "outputs": [
    {
     "name": "stdout",
     "output_type": "stream",
     "text": [
      " * sqlite:///liste_eleve.sqlite\n",
      "Done.\n"
     ]
    },
    {
     "data": {
      "text/html": [
       "<table>\n",
       "    <thead>\n",
       "        <tr>\n",
       "            <th>Nom</th>\n",
       "        </tr>\n",
       "    </thead>\n",
       "    <tbody>\n",
       "        <tr>\n",
       "            <td>ABBAD</td>\n",
       "        </tr>\n",
       "        <tr>\n",
       "            <td>ABD EL NABI</td>\n",
       "        </tr>\n",
       "        <tr>\n",
       "            <td>ABDELOUAHED</td>\n",
       "        </tr>\n",
       "        <tr>\n",
       "            <td>ABED</td>\n",
       "        </tr>\n",
       "        <tr>\n",
       "            <td>ABIDOGOUN</td>\n",
       "        </tr>\n",
       "        <tr>\n",
       "            <td>ABOUE</td>\n",
       "        </tr>\n",
       "        <tr>\n",
       "            <td>ABOULRAS</td>\n",
       "        </tr>\n",
       "        <tr>\n",
       "            <td>ABUNIAWAN</td>\n",
       "        </tr>\n",
       "        <tr>\n",
       "            <td>ACHIBANE</td>\n",
       "        </tr>\n",
       "        <tr>\n",
       "            <td>ADELAIDE</td>\n",
       "        </tr>\n",
       "    </tbody>\n",
       "</table>"
      ],
      "text/plain": [
       "[('ABBAD',),\n",
       " ('ABD EL NABI',),\n",
       " ('ABDELOUAHED',),\n",
       " ('ABED',),\n",
       " ('ABIDOGOUN',),\n",
       " ('ABOUE',),\n",
       " ('ABOULRAS',),\n",
       " ('ABUNIAWAN',),\n",
       " ('ACHIBANE',),\n",
       " ('ADELAIDE',)]"
      ]
     },
     "execution_count": 5,
     "metadata": {},
     "output_type": "execute_result"
    }
   ],
   "source": [
    "%%sql \n",
    "SELECT Nom FROM liste_eleve LIMIT 10;"
   ]
  },
  {
   "cell_type": "markdown",
   "id": "45bdb6d9",
   "metadata": {},
   "source": [
    "# Avec les Queries"
   ]
  },
  {
   "cell_type": "code",
   "execution_count": 15,
   "id": "fce0a910",
   "metadata": {},
   "outputs": [],
   "source": [
    "import sqlite3\n",
    "import pandas as pd\n",
    "\n",
    "# Connexion à la base (fichier dans le même dossier que le notebook)\n",
    "conn = sqlite3.connect(\"liste_eleve.sqlite\")\n"
   ]
  },
  {
   "cell_type": "code",
   "execution_count": 16,
   "id": "95473f85",
   "metadata": {},
   "outputs": [
    {
     "name": "stdout",
     "output_type": "stream",
     "text": [
      "Tables trouvées :\n",
      "- liste_eleve\n"
     ]
    }
   ],
   "source": [
    "cursor = conn.cursor()\n",
    "cursor.execute(\"SELECT name FROM sqlite_master WHERE type='table';\")\n",
    "tables = cursor.fetchall()\n",
    "\n",
    "print(\"Tables trouvées :\")\n",
    "for t in tables:\n",
    "    print(\"-\", t[0])"
   ]
  },
  {
   "cell_type": "code",
   "execution_count": 17,
   "id": "1691d9c4",
   "metadata": {},
   "outputs": [
    {
     "name": "stdout",
     "output_type": "stream",
     "text": [
      "('ABBAD', 'Chaima', 'abbad.chaima@gmail.com', '6/4/2004', '0736061000', 'Féminin', '', '', 'Kiwi', 'Externe', 'Football', 'Magie', '2CAP2  COMMER.SERV.HOTEL-CAFE-RESTAURANT', '', 'ANGLAIS LV1', 'FAUX', '16,98')\n",
      "('ABD EL NABI', 'Hazem', 'abd el nabi.hazem@outlook.com', '5/5/2002', '0775456577', 'Masculin', '', '', 'Poisson', 'Externe', 'Football', 'Théâtre', '2NDPRO METIERS ELECT. ENVIRON. CONNECTES', '', 'ANGLAIS LV1', 'FAUX', '11,24')\n",
      "('ABDELOUAHED', 'Noureddine', 'abdelouahed.noureddine@gmail.com', '28/1/2004', '0699645198', 'Masculin', '', '', 'Poisson', 'Externe', 'Tennis', 'Théâtre', '', '', 'ANGLAIS LV1', 'FAUX', '16,04')\n",
      "('ABED', 'Yannis', 'abed.yannis@orange.fr', '11/11/2000', '0621047027', 'Masculin', '', '', '', 'Demi-pensionnaire', 'Tennis', 'Natation', 'TLEPRO VENTE (PROSPECT.NEGO.SUIV.CLIENT)', 'Musculation Tle G1 R', 'ANGLAIS LV1, ESPAGNOL LV2', 'FAUX', '12,79')\n",
      "('ABIDOGOUN', 'Alexandre', 'abidogoun.alexandre@free.fr', '3/9/2000', '0640677942', 'Masculin', '', '', 'Fruits à coque', 'Externe', 'Basketball', 'Peinture', '2NDPRO MET. RELATION CLIENT 2NDE COMMUNE', '2MCV1FRANCA, 2MCV1MATHS, 2MCV1VENTP', 'ANGLAIS LV1, ESPAGNOL LV2', 'FAUX', '17,95')\n"
     ]
    }
   ],
   "source": [
    "cursor.execute(\"SELECT * FROM liste_eleve LIMIT 5;\")\n",
    "rows = cursor.fetchall()\n",
    "\n",
    "# Afficher les lignes\n",
    "for row in rows:\n",
    "    print(row)"
   ]
  },
  {
   "cell_type": "code",
   "execution_count": 19,
   "id": "bf3a36ef",
   "metadata": {},
   "outputs": [
    {
     "data": {
      "text/html": [
       "<div>\n",
       "<style scoped>\n",
       "    .dataframe tbody tr th:only-of-type {\n",
       "        vertical-align: middle;\n",
       "    }\n",
       "\n",
       "    .dataframe tbody tr th {\n",
       "        vertical-align: top;\n",
       "    }\n",
       "\n",
       "    .dataframe thead th {\n",
       "        text-align: right;\n",
       "    }\n",
       "</style>\n",
       "<table border=\"1\" class=\"dataframe\">\n",
       "  <thead>\n",
       "    <tr style=\"text-align: right;\">\n",
       "      <th></th>\n",
       "      <th>Nom</th>\n",
       "      <th>Prénom</th>\n",
       "      <th>Mail</th>\n",
       "      <th>Né(e) le</th>\n",
       "      <th>Téléphone</th>\n",
       "      <th>Sexe</th>\n",
       "      <th>Classe</th>\n",
       "      <th>Projet d'accompagnement</th>\n",
       "      <th>Allergies</th>\n",
       "      <th>Régime</th>\n",
       "      <th>Sport</th>\n",
       "      <th>Club</th>\n",
       "      <th>Formation</th>\n",
       "      <th>Groupes</th>\n",
       "      <th>Toutes les options</th>\n",
       "      <th>Redoublement</th>\n",
       "      <th>Moyenne Générale</th>\n",
       "    </tr>\n",
       "  </thead>\n",
       "  <tbody>\n",
       "    <tr>\n",
       "      <th>0</th>\n",
       "      <td>ABBAD</td>\n",
       "      <td>Chaima</td>\n",
       "      <td>abbad.chaima@gmail.com</td>\n",
       "      <td>6/4/2004</td>\n",
       "      <td>0736061000</td>\n",
       "      <td>Féminin</td>\n",
       "      <td></td>\n",
       "      <td></td>\n",
       "      <td>Kiwi</td>\n",
       "      <td>Externe</td>\n",
       "      <td>Football</td>\n",
       "      <td>Magie</td>\n",
       "      <td>2CAP2  COMMER.SERV.HOTEL-CAFE-RESTAURANT</td>\n",
       "      <td></td>\n",
       "      <td>ANGLAIS LV1</td>\n",
       "      <td>FAUX</td>\n",
       "      <td>16,98</td>\n",
       "    </tr>\n",
       "    <tr>\n",
       "      <th>1</th>\n",
       "      <td>ABD EL NABI</td>\n",
       "      <td>Hazem</td>\n",
       "      <td>abd el nabi.hazem@outlook.com</td>\n",
       "      <td>5/5/2002</td>\n",
       "      <td>0775456577</td>\n",
       "      <td>Masculin</td>\n",
       "      <td></td>\n",
       "      <td></td>\n",
       "      <td>Poisson</td>\n",
       "      <td>Externe</td>\n",
       "      <td>Football</td>\n",
       "      <td>Théâtre</td>\n",
       "      <td>2NDPRO METIERS ELECT. ENVIRON. CONNECTES</td>\n",
       "      <td></td>\n",
       "      <td>ANGLAIS LV1</td>\n",
       "      <td>FAUX</td>\n",
       "      <td>11,24</td>\n",
       "    </tr>\n",
       "    <tr>\n",
       "      <th>2</th>\n",
       "      <td>ABDELOUAHED</td>\n",
       "      <td>Noureddine</td>\n",
       "      <td>abdelouahed.noureddine@gmail.com</td>\n",
       "      <td>28/1/2004</td>\n",
       "      <td>0699645198</td>\n",
       "      <td>Masculin</td>\n",
       "      <td></td>\n",
       "      <td></td>\n",
       "      <td>Poisson</td>\n",
       "      <td>Externe</td>\n",
       "      <td>Tennis</td>\n",
       "      <td>Théâtre</td>\n",
       "      <td></td>\n",
       "      <td></td>\n",
       "      <td>ANGLAIS LV1</td>\n",
       "      <td>FAUX</td>\n",
       "      <td>16,04</td>\n",
       "    </tr>\n",
       "    <tr>\n",
       "      <th>3</th>\n",
       "      <td>ABED</td>\n",
       "      <td>Yannis</td>\n",
       "      <td>abed.yannis@orange.fr</td>\n",
       "      <td>11/11/2000</td>\n",
       "      <td>0621047027</td>\n",
       "      <td>Masculin</td>\n",
       "      <td></td>\n",
       "      <td></td>\n",
       "      <td></td>\n",
       "      <td>Demi-pensionnaire</td>\n",
       "      <td>Tennis</td>\n",
       "      <td>Natation</td>\n",
       "      <td>TLEPRO VENTE (PROSPECT.NEGO.SUIV.CLIENT)</td>\n",
       "      <td>Musculation Tle G1 R</td>\n",
       "      <td>ANGLAIS LV1, ESPAGNOL LV2</td>\n",
       "      <td>FAUX</td>\n",
       "      <td>12,79</td>\n",
       "    </tr>\n",
       "    <tr>\n",
       "      <th>4</th>\n",
       "      <td>ABIDOGOUN</td>\n",
       "      <td>Alexandre</td>\n",
       "      <td>abidogoun.alexandre@free.fr</td>\n",
       "      <td>3/9/2000</td>\n",
       "      <td>0640677942</td>\n",
       "      <td>Masculin</td>\n",
       "      <td></td>\n",
       "      <td></td>\n",
       "      <td>Fruits à coque</td>\n",
       "      <td>Externe</td>\n",
       "      <td>Basketball</td>\n",
       "      <td>Peinture</td>\n",
       "      <td>2NDPRO MET. RELATION CLIENT 2NDE COMMUNE</td>\n",
       "      <td>2MCV1FRANCA, 2MCV1MATHS, 2MCV1VENTP</td>\n",
       "      <td>ANGLAIS LV1, ESPAGNOL LV2</td>\n",
       "      <td>FAUX</td>\n",
       "      <td>17,95</td>\n",
       "    </tr>\n",
       "  </tbody>\n",
       "</table>\n",
       "</div>"
      ],
      "text/plain": [
       "           Nom      Prénom                              Mail    Né(e) le  \\\n",
       "0        ABBAD      Chaima            abbad.chaima@gmail.com    6/4/2004   \n",
       "1  ABD EL NABI       Hazem     abd el nabi.hazem@outlook.com    5/5/2002   \n",
       "2  ABDELOUAHED  Noureddine  abdelouahed.noureddine@gmail.com   28/1/2004   \n",
       "3         ABED      Yannis             abed.yannis@orange.fr  11/11/2000   \n",
       "4    ABIDOGOUN   Alexandre       abidogoun.alexandre@free.fr    3/9/2000   \n",
       "\n",
       "    Téléphone      Sexe Classe Projet d'accompagnement       Allergies  \\\n",
       "0  0736061000   Féminin                                           Kiwi   \n",
       "1  0775456577  Masculin                                        Poisson   \n",
       "2  0699645198  Masculin                                        Poisson   \n",
       "3  0621047027  Masculin                                                  \n",
       "4  0640677942  Masculin                                 Fruits à coque   \n",
       "\n",
       "              Régime       Sport      Club  \\\n",
       "0            Externe    Football     Magie   \n",
       "1            Externe    Football   Théâtre   \n",
       "2            Externe      Tennis   Théâtre   \n",
       "3  Demi-pensionnaire      Tennis  Natation   \n",
       "4            Externe  Basketball  Peinture   \n",
       "\n",
       "                                  Formation  \\\n",
       "0  2CAP2  COMMER.SERV.HOTEL-CAFE-RESTAURANT   \n",
       "1  2NDPRO METIERS ELECT. ENVIRON. CONNECTES   \n",
       "2                                             \n",
       "3  TLEPRO VENTE (PROSPECT.NEGO.SUIV.CLIENT)   \n",
       "4  2NDPRO MET. RELATION CLIENT 2NDE COMMUNE   \n",
       "\n",
       "                               Groupes         Toutes les options  \\\n",
       "0                                                     ANGLAIS LV1   \n",
       "1                                                     ANGLAIS LV1   \n",
       "2                                                     ANGLAIS LV1   \n",
       "3                 Musculation Tle G1 R  ANGLAIS LV1, ESPAGNOL LV2   \n",
       "4  2MCV1FRANCA, 2MCV1MATHS, 2MCV1VENTP  ANGLAIS LV1, ESPAGNOL LV2   \n",
       "\n",
       "  Redoublement Moyenne Générale  \n",
       "0         FAUX            16,98  \n",
       "1         FAUX            11,24  \n",
       "2         FAUX            16,04  \n",
       "3         FAUX            12,79  \n",
       "4         FAUX            17,95  "
      ]
     },
     "metadata": {},
     "output_type": "display_data"
    }
   ],
   "source": [
    "df = pd.read_sql_query(\"SELECT * FROM liste_eleve\", conn)\n",
    "\n",
    "# Affichage propre\n",
    "pd.set_option('display.max_columns', None)  # pour tout afficher\n",
    "pd.set_option('display.max_rows', 10)       # limite l'affichage si gros tableau\n",
    "display(df.head())  # ou juste df"
   ]
  },
  {
   "cell_type": "code",
   "execution_count": 14,
   "id": "09989a6c",
   "metadata": {},
   "outputs": [],
   "source": [
    "# Femer la connexion\n",
    "conn.close()"
   ]
  }
 ],
 "metadata": {
  "kernelspec": {
   "display_name": "Python 3",
   "language": "python",
   "name": "python3"
  },
  "language_info": {
   "codemirror_mode": {
    "name": "ipython",
    "version": 3
   },
   "file_extension": ".py",
   "mimetype": "text/x-python",
   "name": "python",
   "nbconvert_exporter": "python",
   "pygments_lexer": "ipython3",
   "version": "3.12.3"
  }
 },
 "nbformat": 4,
 "nbformat_minor": 5
}
