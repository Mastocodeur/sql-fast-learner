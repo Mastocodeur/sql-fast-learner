{
 "cells": [
  {
   "cell_type": "markdown",
   "id": "877d8df2",
   "metadata": {},
   "source": [
    "# TP 4 : Les volcans sujet"
   ]
  },
  {
   "cell_type": "markdown",
   "id": "81b0c4f8",
   "metadata": {},
   "source": [
    "\n",
    "![Volcans Sujet](../images/volcans.png)\n",
    "\n"
   ]
  },
  {
   "cell_type": "markdown",
   "id": "e3db99a2",
   "metadata": {},
   "source": [
    "On commence par éxécuter la commande `%load_ext sql` qui est une magic command spécifique à Jupyter Notebook. Elle sert à charger l’extension ipython-sql, qui permet d’exécuter du code SQL directement dans des cellules Jupyter comme si c'était du Python natif : "
   ]
  },
  {
   "cell_type": "code",
   "execution_count": 2,
   "id": "c817d411",
   "metadata": {},
   "outputs": [],
   "source": [
    "%load_ext sql"
   ]
  },
  {
   "cell_type": "markdown",
   "id": "ed366364",
   "metadata": {},
   "source": [
    "Ensuite, on établit une connexion SQL entre notre Jupyter et notre base de données SQLite locale nommée `volcans.db` : "
   ]
  },
  {
   "cell_type": "code",
   "execution_count": 3,
   "id": "2937d51e",
   "metadata": {},
   "outputs": [],
   "source": [
    "%sql sqlite:///volcans.db"
   ]
  },
  {
   "cell_type": "markdown",
   "id": "e1f58aa0",
   "metadata": {},
   "source": [
    "On exécute la cellule suivante pour configurer l'affichage des résultats SQL dans notre notebook Jupyter lorsqu'on utilise l'extension `ipython-sql` :"
   ]
  },
  {
   "cell_type": "code",
   "execution_count": 5,
   "id": "902297c4",
   "metadata": {},
   "outputs": [],
   "source": [
    "%config SqlMagic.style = '_DEPRECATED_DEFAULT'"
   ]
  },
  {
   "cell_type": "markdown",
   "id": "42002736",
   "metadata": {},
   "source": [
    "Ici on liste les tables présentes dans notre base de données : "
   ]
  },
  {
   "cell_type": "code",
   "execution_count": 7,
   "id": "c77125b8",
   "metadata": {},
   "outputs": [
    {
     "name": "stdout",
     "output_type": "stream",
     "text": [
      " * sqlite:///volcans.db\n",
      "Done.\n"
     ]
    },
    {
     "data": {
      "text/html": [
       "<table>\n",
       "    <thead>\n",
       "        <tr>\n",
       "            <th>name</th>\n",
       "        </tr>\n",
       "    </thead>\n",
       "    <tbody>\n",
       "        <tr>\n",
       "            <td>volcans</td>\n",
       "        </tr>\n",
       "    </tbody>\n",
       "</table>"
      ],
      "text/plain": [
       "[('volcans',)]"
      ]
     },
     "execution_count": 7,
     "metadata": {},
     "output_type": "execute_result"
    }
   ],
   "source": [
    "%%sql\n",
    "SELECT name FROM sqlite_master WHERE type='table'"
   ]
  },
  {
   "cell_type": "markdown",
   "id": "9cce22f4",
   "metadata": {},
   "source": [
    "Ensuite, on liste les colonnes dans la table volcans : "
   ]
  },
  {
   "cell_type": "code",
   "execution_count": 8,
   "id": "c69d861e",
   "metadata": {},
   "outputs": [
    {
     "name": "stdout",
     "output_type": "stream",
     "text": [
      " * sqlite:///volcans.db\n",
      "Done.\n"
     ]
    },
    {
     "data": {
      "text/html": [
       "<table>\n",
       "    <thead>\n",
       "        <tr>\n",
       "            <th>cid</th>\n",
       "            <th>name</th>\n",
       "            <th>type</th>\n",
       "            <th>notnull</th>\n",
       "            <th>dflt_value</th>\n",
       "            <th>pk</th>\n",
       "        </tr>\n",
       "    </thead>\n",
       "    <tbody>\n",
       "        <tr>\n",
       "            <td>0</td>\n",
       "            <td>volcano</td>\n",
       "            <td>TEXT</td>\n",
       "            <td>0</td>\n",
       "            <td>None</td>\n",
       "            <td>1</td>\n",
       "        </tr>\n",
       "        <tr>\n",
       "            <td>1</td>\n",
       "            <td>name</td>\n",
       "            <td>TEXT</td>\n",
       "            <td>0</td>\n",
       "            <td>None</td>\n",
       "            <td>0</td>\n",
       "        </tr>\n",
       "        <tr>\n",
       "            <td>2</td>\n",
       "            <td>wiki</td>\n",
       "            <td>TEXT</td>\n",
       "            <td>0</td>\n",
       "            <td>None</td>\n",
       "            <td>0</td>\n",
       "        </tr>\n",
       "        <tr>\n",
       "            <td>3</td>\n",
       "            <td>elevation</td>\n",
       "            <td>INTEGER</td>\n",
       "            <td>0</td>\n",
       "            <td>None</td>\n",
       "            <td>0</td>\n",
       "        </tr>\n",
       "        <tr>\n",
       "            <td>4</td>\n",
       "            <td>lat</td>\n",
       "            <td>REAL</td>\n",
       "            <td>0</td>\n",
       "            <td>None</td>\n",
       "            <td>0</td>\n",
       "        </tr>\n",
       "        <tr>\n",
       "            <td>5</td>\n",
       "            <td>lon</td>\n",
       "            <td>REAL</td>\n",
       "            <td>0</td>\n",
       "            <td>None</td>\n",
       "            <td>0</td>\n",
       "        </tr>\n",
       "        <tr>\n",
       "            <td>6</td>\n",
       "            <td>eruption_date</td>\n",
       "            <td>TEXT</td>\n",
       "            <td>0</td>\n",
       "            <td>None</td>\n",
       "            <td>0</td>\n",
       "        </tr>\n",
       "        <tr>\n",
       "            <td>7</td>\n",
       "            <td>eruption_year</td>\n",
       "            <td>INTEGER</td>\n",
       "            <td>0</td>\n",
       "            <td>None</td>\n",
       "            <td>0</td>\n",
       "        </tr>\n",
       "        <tr>\n",
       "            <td>8</td>\n",
       "            <td>abstract</td>\n",
       "            <td>TEXT</td>\n",
       "            <td>0</td>\n",
       "            <td>None</td>\n",
       "            <td>0</td>\n",
       "        </tr>\n",
       "        <tr>\n",
       "            <td>9</td>\n",
       "            <td>photo</td>\n",
       "            <td>TEXT</td>\n",
       "            <td>0</td>\n",
       "            <td>None</td>\n",
       "            <td>0</td>\n",
       "        </tr>\n",
       "    </tbody>\n",
       "</table>"
      ],
      "text/plain": [
       "[(0, 'volcano', 'TEXT', 0, None, 1),\n",
       " (1, 'name', 'TEXT', 0, None, 0),\n",
       " (2, 'wiki', 'TEXT', 0, None, 0),\n",
       " (3, 'elevation', 'INTEGER', 0, None, 0),\n",
       " (4, 'lat', 'REAL', 0, None, 0),\n",
       " (5, 'lon', 'REAL', 0, None, 0),\n",
       " (6, 'eruption_date', 'TEXT', 0, None, 0),\n",
       " (7, 'eruption_year', 'INTEGER', 0, None, 0),\n",
       " (8, 'abstract', 'TEXT', 0, None, 0),\n",
       " (9, 'photo', 'TEXT', 0, None, 0)]"
      ]
     },
     "execution_count": 8,
     "metadata": {},
     "output_type": "execute_result"
    }
   ],
   "source": [
    "%%sql\n",
    "PRAGMA table_info(volcans)"
   ]
  },
  {
   "cell_type": "markdown",
   "id": "58a0118b",
   "metadata": {},
   "source": [
    "On peut alors répondre aux questions du TP4."
   ]
  },
  {
   "cell_type": "markdown",
   "id": "e4543a33",
   "metadata": {},
   "source": [
    "___"
   ]
  },
  {
   "cell_type": "markdown",
   "id": "10c58243",
   "metadata": {},
   "source": [
    "### Partie 1 – Exploration de la base \n",
    "1) Lister les 10 volcans les plus hauts, classés par altitude décroissante. N'affichez que les noms et les altitudes."
   ]
  },
  {
   "cell_type": "code",
   "execution_count": null,
   "id": "c4c59731",
   "metadata": {},
   "outputs": [],
   "source": []
  },
  {
   "cell_type": "markdown",
   "id": "fe792272",
   "metadata": {},
   "source": [
    "2) Compter le nombre de volcans dont l’altitude est supérieure à 5000 mètres."
   ]
  },
  {
   "cell_type": "code",
   "execution_count": null,
   "id": "2f8f15bc",
   "metadata": {},
   "outputs": [],
   "source": []
  },
  {
   "cell_type": "markdown",
   "id": "dbc58b31",
   "metadata": {},
   "source": [
    "3) Afficher le nom, l'altitude et le lien Wikipédia pour les volcans ayant une altitude inférieure à 300m."
   ]
  },
  {
   "cell_type": "code",
   "execution_count": null,
   "id": "a98c8a73",
   "metadata": {},
   "outputs": [],
   "source": []
  },
  {
   "cell_type": "markdown",
   "id": "147c78ee",
   "metadata": {},
   "source": [
    "### Partie 2 – Analyse temporelle\n",
    "4) Lister 10 volcans ayant eu une éruption après l’an 2000."
   ]
  },
  {
   "cell_type": "code",
   "execution_count": null,
   "id": "fdf4e6d9",
   "metadata": {},
   "outputs": [],
   "source": []
  },
  {
   "cell_type": "markdown",
   "id": "d00cf953",
   "metadata": {},
   "source": [
    "5) Trouver combien de volcans ont une année d’éruption connue (c’est-à-dire non nulle)."
   ]
  },
  {
   "cell_type": "code",
   "execution_count": null,
   "id": "1ffe0cdd",
   "metadata": {},
   "outputs": [],
   "source": []
  },
  {
   "cell_type": "markdown",
   "id": "596269a9",
   "metadata": {},
   "source": [
    "6) Trouver 10 volcans ayant l'éruption la plus lointaine, trier par ordre croissant d'année d'éruption."
   ]
  },
  {
   "cell_type": "code",
   "execution_count": null,
   "id": "5d12a3c1",
   "metadata": {},
   "outputs": [],
   "source": []
  },
  {
   "cell_type": "markdown",
   "id": "6f15b340",
   "metadata": {},
   "source": [
    "### Partie 3 – Données géographiques\n",
    "\n",
    "7) Trouver les volcans situés dans l’hémisphère sud."
   ]
  },
  {
   "cell_type": "code",
   "execution_count": null,
   "id": "0e79a671",
   "metadata": {},
   "outputs": [],
   "source": []
  },
  {
   "cell_type": "markdown",
   "id": "6d4e2357",
   "metadata": {},
   "source": [
    "8) Compter le nombre de volcans situés entre l’équateur (lat = 0) et 30°N."
   ]
  },
  {
   "cell_type": "code",
   "execution_count": null,
   "id": "f71f6d60",
   "metadata": {},
   "outputs": [],
   "source": []
  },
  {
   "cell_type": "markdown",
   "id": "580f0692",
   "metadata": {},
   "source": [
    "9) Identifier les 5 volcans les plus au nord (par latitude décroissante)."
   ]
  },
  {
   "cell_type": "code",
   "execution_count": null,
   "id": "133cf62a",
   "metadata": {},
   "outputs": [],
   "source": []
  },
  {
   "cell_type": "markdown",
   "id": "25e3942a",
   "metadata": {},
   "source": [
    "### Partie 4 – Requête avancée (bonus)\n",
    "10) Extraire 5 volcans ayant dans leur description (abstract) le mot \"eruption\"."
   ]
  },
  {
   "cell_type": "code",
   "execution_count": null,
   "id": "c5981ee5",
   "metadata": {},
   "outputs": [],
   "source": []
  }
 ],
 "metadata": {
  "kernelspec": {
   "display_name": "Python 3",
   "language": "python",
   "name": "python3"
  },
  "language_info": {
   "codemirror_mode": {
    "name": "ipython",
    "version": 3
   },
   "file_extension": ".py",
   "mimetype": "text/x-python",
   "name": "python",
   "nbconvert_exporter": "python",
   "pygments_lexer": "ipython3",
   "version": "3.12.3"
  }
 },
 "nbformat": 4,
 "nbformat_minor": 5
}
