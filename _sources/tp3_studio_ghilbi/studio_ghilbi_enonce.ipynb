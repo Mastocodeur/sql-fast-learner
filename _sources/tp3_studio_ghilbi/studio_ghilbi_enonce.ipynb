{
 "cells": [
  {
   "cell_type": "markdown",
   "id": "65897783-0a49-43ee-a37a-1a699167a35a",
   "metadata": {},
   "source": [
    "# <center>TP Studio Ghilbi Sujet </center>"
   ]
  },
  {
   "cell_type": "markdown",
   "id": "edb93683-ce32-4506-9e05-81b6920edadd",
   "metadata": {},
   "source": [
    "![Ghilbi Intro](../images/ghilbi.png)"
   ]
  },
  {
   "cell_type": "markdown",
   "id": "40a75dac-526b-4bca-851c-a4b03ff37b66",
   "metadata": {},
   "source": [
    "## Objectifs\n",
    "- Visualiser et travailler avec plusieurs tables d'une base de données SQL\n",
    "- Apprendre à écrire des lignes de commande SQL\n",
    "- Extraire des informations d'une base de données SQL\n",
    "- Développer un esprit critique sur les résultats obtenus\n",
    "- Réaliser l'importance des types d'une colonne\n",
    "- Maîtriser les commandes JOIN"
   ]
  },
  {
   "cell_type": "markdown",
   "id": "3ea8b4b5-397f-4b76-8fb4-af8700a9f779",
   "metadata": {},
   "source": [
    "On commence par charger les décorateurs qui vont nous permettre de taper des lignes de commandes SQL et la base de données sur laquelle on va travailler."
   ]
  },
  {
   "cell_type": "code",
   "execution_count": 1,
   "id": "fc7890e0-713e-4683-9cf3-d443ed8c17a8",
   "metadata": {},
   "outputs": [],
   "source": [
    "%load_ext sql"
   ]
  },
  {
   "cell_type": "code",
   "execution_count": 2,
   "id": "ecd11e64-9018-4904-98c8-04c4875a65ad",
   "metadata": {},
   "outputs": [],
   "source": [
    "%sql sqlite:///studio_ghilbi.sqlite"
   ]
  },
  {
   "cell_type": "markdown",
   "id": "3e82be4c-4815-41dc-ac41-7ee32ef82473",
   "metadata": {},
   "source": [
    "On visualise le ocntenu de notre base SQL :"
   ]
  },
  {
   "cell_type": "code",
   "execution_count": 3,
   "id": "bec5850f-d264-4295-8330-86af92e4c80e",
   "metadata": {},
   "outputs": [
    {
     "name": "stdout",
     "output_type": "stream",
     "text": [
      " * sqlite:///studio_ghilbi.sqlite\n",
      "Done.\n"
     ]
    },
    {
     "data": {
      "text/html": [
       "<table>\n",
       "    <thead>\n",
       "        <tr>\n",
       "            <th>name</th>\n",
       "        </tr>\n",
       "    </thead>\n",
       "    <tbody>\n",
       "        <tr>\n",
       "            <td>film</td>\n",
       "        </tr>\n",
       "        <tr>\n",
       "            <td>personne</td>\n",
       "        </tr>\n",
       "        <tr>\n",
       "            <td>personnage</td>\n",
       "        </tr>\n",
       "        <tr>\n",
       "            <td>intervient_dans</td>\n",
       "        </tr>\n",
       "        <tr>\n",
       "            <td>est_de_type</td>\n",
       "        </tr>\n",
       "        <tr>\n",
       "            <td>produit_par</td>\n",
       "        </tr>\n",
       "        <tr>\n",
       "            <td>espece</td>\n",
       "        </tr>\n",
       "    </tbody>\n",
       "</table>"
      ],
      "text/plain": [
       "[('film',),\n",
       " ('personne',),\n",
       " ('personnage',),\n",
       " ('intervient_dans',),\n",
       " ('est_de_type',),\n",
       " ('produit_par',),\n",
       " ('espece',)]"
      ]
     },
     "execution_count": 3,
     "metadata": {},
     "output_type": "execute_result"
    }
   ],
   "source": [
    "%%sql\n",
    "SELECT name FROM sqlite_master WHERE type='table';"
   ]
  },
  {
   "cell_type": "markdown",
   "id": "0d4b2ac1",
   "metadata": {},
   "source": [
    "# Questions du TP"
   ]
  },
  {
   "cell_type": "markdown",
   "id": "c4623955-639a-471c-9874-0f5cd2e49c36",
   "metadata": {},
   "source": [
    "1. Lister toutes les informations concernant tous les films de la BDD."
   ]
  },
  {
   "cell_type": "code",
   "execution_count": null,
   "id": "314fa9fb",
   "metadata": {},
   "outputs": [],
   "source": []
  },
  {
   "cell_type": "markdown",
   "id": "ae5f27dd-97a2-4485-b138-62d50c0cdaee",
   "metadata": {},
   "source": [
    "2. Comme les informations sont trop nombreuses, et que tout ne nous intéresse pas, on se contentera de la liste des titres et de leur année de réalisation seulement."
   ]
  },
  {
   "cell_type": "code",
   "execution_count": null,
   "id": "ce5805eb-8632-453f-bbed-e43297f9f14d",
   "metadata": {},
   "outputs": [],
   "source": []
  },
  {
   "cell_type": "markdown",
   "id": "4ed59fba-d11e-4e26-8bda-8827a2597a94",
   "metadata": {},
   "source": [
    "3. Déterminer la table nécessaire et faire apparaître le nom de tous les personnages ainsi que leur âge."
   ]
  },
  {
   "cell_type": "code",
   "execution_count": null,
   "id": "563296dc-c733-4a12-b061-3e4ae5c15b70",
   "metadata": {},
   "outputs": [],
   "source": []
  },
  {
   "cell_type": "markdown",
   "id": "148348d5-97e1-44b7-b7ef-2e71c7ded4a3",
   "metadata": {},
   "source": [
    "4. Recommencer la même sélection, mais en faisant un tri croissant sur l'âge des personnages."
   ]
  },
  {
   "cell_type": "code",
   "execution_count": null,
   "id": "d0cbcaa9-d907-48c1-b004-e431b1046bdc",
   "metadata": {},
   "outputs": [],
   "source": []
  },
  {
   "cell_type": "markdown",
   "id": "99010a16-39bf-4100-a531-b7abcaec550d",
   "metadata": {},
   "source": [
    "- Vérifier que le personnage le plus jeune avec un âge connu est «Mei Kusakabe».\n",
    "- Quelle remarque peut-on faire ?\n",
    "- Comment expliquer ce résultat ? Comment aurait-on pu éviter le problème ?"
   ]
  },
  {
   "cell_type": "code",
   "execution_count": null,
   "id": "b07a1206-2147-493d-8634-8d45e53660c9",
   "metadata": {},
   "outputs": [],
   "source": []
  },
  {
   "cell_type": "markdown",
   "id": "eba8e080-641a-4f5b-959a-696d3c182b62",
   "metadata": {},
   "source": [
    "5. Afficher maintenant les titres des 5 films les plus courts ainsi que leur durée."
   ]
  },
  {
   "cell_type": "code",
   "execution_count": null,
   "id": "82a63181-c6ac-4ec3-ba14-90c8f5ac4061",
   "metadata": {},
   "outputs": [],
   "source": []
  },
  {
   "cell_type": "markdown",
   "id": "bc7466a1-f2ce-4645-a33f-9fdffd681b12",
   "metadata": {},
   "source": [
    "6. Afficher l'URL de l'affiche du film (movie_banner) «Castle in the Sky». Visualiser le résultat dans un nouvel onglet."
   ]
  },
  {
   "cell_type": "code",
   "execution_count": null,
   "id": "8da57c0a-a4ed-4b07-8577-9dd84cc8f9c0",
   "metadata": {},
   "outputs": [],
   "source": []
  },
  {
   "cell_type": "markdown",
   "id": "f0906a79-b9e8-4fb7-b3c7-2985b3c2dd45",
   "metadata": {},
   "source": [
    "7. Compter le nombre de personnages dans la BDD."
   ]
  },
  {
   "cell_type": "code",
   "execution_count": null,
   "id": "096fbc34-c6dd-4bde-83f0-7f3587962034",
   "metadata": {},
   "outputs": [],
   "source": []
  },
  {
   "cell_type": "markdown",
   "id": "cb580f7b-d16d-4857-867a-2f8e4ee16169",
   "metadata": {},
   "source": [
    "8. Afficher la liste des films réalisés entre les années 1995 et 2005 exclues."
   ]
  },
  {
   "cell_type": "code",
   "execution_count": null,
   "id": "44b024fa-5d72-46d7-96b4-bc1653e4a80c",
   "metadata": {},
   "outputs": [],
   "source": []
  },
  {
   "cell_type": "markdown",
   "id": "134c00af-0db0-429f-bb7e-ce8fdb237a79",
   "metadata": {},
   "source": [
    "9. Afficher les films réalisés par «Hayao Miyazaki»"
   ]
  },
  {
   "cell_type": "code",
   "execution_count": null,
   "id": "374c6c7c-4c28-416f-babf-182467930d4d",
   "metadata": {},
   "outputs": [],
   "source": []
  },
  {
   "cell_type": "markdown",
   "id": "0802975c-04f8-463c-aa23-7c15ac283653",
   "metadata": {},
   "source": [
    "10. Afficher les films réalisés par la famille «Miyazaki»"
   ]
  },
  {
   "cell_type": "code",
   "execution_count": null,
   "id": "5f39c91f-4aea-47a2-ace4-1177d5692631",
   "metadata": {},
   "outputs": [],
   "source": []
  },
  {
   "cell_type": "markdown",
   "id": "15ee1600-18ad-4e9b-b7c4-a842cfb0b7de",
   "metadata": {},
   "source": [
    "11. Compter le nombre de films réalisés par «Isao Takahata»"
   ]
  },
  {
   "cell_type": "code",
   "execution_count": null,
   "id": "63c3ab0b-e3ca-4fab-9311-780d1cba4572",
   "metadata": {},
   "outputs": [],
   "source": []
  },
  {
   "cell_type": "markdown",
   "id": "d3bcfdd7-86a1-47b6-abc7-91f89b826d2d",
   "metadata": {},
   "source": [
    "12. Afficher les films dont le réalisateur est aussi le producteur."
   ]
  },
  {
   "cell_type": "code",
   "execution_count": null,
   "id": "2cc2fb8d-55b0-44df-a3ab-847c40cd6567",
   "metadata": {},
   "outputs": [],
   "source": []
  },
  {
   "cell_type": "markdown",
   "id": "4835669a-5f50-4751-8d27-635ca76096e6",
   "metadata": {},
   "source": [
    "13. Afficher les films produits par «Hayao Miyazaki»"
   ]
  },
  {
   "cell_type": "code",
   "execution_count": null,
   "id": "4da64228-8c5f-4959-aee6-e8ddbf6f3462",
   "metadata": {},
   "outputs": [],
   "source": []
  },
  {
   "cell_type": "markdown",
   "id": "e535eebe-9a08-4529-bd53-f692855d2796",
   "metadata": {},
   "source": [
    "14. Afficher les personnages du film «My Neighbor Totoro»"
   ]
  },
  {
   "cell_type": "code",
   "execution_count": null,
   "id": "e8ada38b-3484-4302-bd40-08b570d05926",
   "metadata": {},
   "outputs": [],
   "source": []
  },
  {
   "cell_type": "markdown",
   "id": "9fb6e40a-ab2d-4cd2-9190-349b151b095b",
   "metadata": {},
   "source": [
    "15. Dans quels films apparaît le personnage du «Baron Humbert von Gikkingen»"
   ]
  },
  {
   "cell_type": "code",
   "execution_count": null,
   "id": "40c0627e-29a4-45c6-868e-22eaaadfd7dc",
   "metadata": {},
   "outputs": [],
   "source": []
  },
  {
   "cell_type": "markdown",
   "id": "2c923f4f-9be2-4147-a696-a0a34a06dda8",
   "metadata": {},
   "source": [
    "16. Donner la liste de tous les personnages non \"Human\" et leur type."
   ]
  },
  {
   "cell_type": "code",
   "execution_count": null,
   "id": "348ca22f-b4a1-4b93-a36e-289130b9d16c",
   "metadata": {},
   "outputs": [],
   "source": []
  },
  {
   "cell_type": "markdown",
   "id": "6ae633b0-18a6-4b91-af8d-93e0e3853e2f",
   "metadata": {},
   "source": [
    "17. Donner la liste de tous les personnages non humains du film «My Neighbor Totoro», ainsi que leur espèce."
   ]
  },
  {
   "cell_type": "code",
   "execution_count": null,
   "id": "0498d9b4-4a29-4265-8f54-f88ebb768412",
   "metadata": {},
   "outputs": [],
   "source": []
  }
 ],
 "metadata": {
  "kernelspec": {
   "display_name": "Python 3 (ipykernel)",
   "language": "python",
   "name": "python3"
  },
  "language_info": {
   "codemirror_mode": {
    "name": "ipython",
    "version": 3
   },
   "file_extension": ".py",
   "mimetype": "text/x-python",
   "name": "python",
   "nbconvert_exporter": "python",
   "pygments_lexer": "ipython3",
   "version": "3.11.7"
  }
 },
 "nbformat": 4,
 "nbformat_minor": 5
}
