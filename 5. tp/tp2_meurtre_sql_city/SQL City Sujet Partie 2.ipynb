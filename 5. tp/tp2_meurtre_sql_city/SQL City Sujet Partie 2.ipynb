{
 "cells": [
  {
   "cell_type": "markdown",
   "id": "d32d66f4-d9bf-46ba-a428-eb0c99a3dc6a",
   "metadata": {},
   "source": [
    "# <center>Meurtre à SQL City Episode 2 </center>"
   ]
  },
  {
   "cell_type": "markdown",
   "id": "e6d75ee5-0129-4a5f-af0d-246e3c479f41",
   "metadata": {},
   "source": [
    "<div style=\"text-align: center;\">\n",
    "    <img src=\"../images/centre_ville.png\" width=\"500\" height=\"200\">\n",
    "</div>"
   ]
  },
  {
   "cell_type": "markdown",
   "id": "a40e25c8-f6c9-4d3b-9b08-63bb4daaa846",
   "metadata": {},
   "source": [
    "Vous avez reconstitué le dossier principal que vous aviez perdu. Mais quelque chose vous dérange, vous trouvez ça trop facile. Votre expérience d'apprenti vous a plusieurs fois démontré qu'on ne peut jamais se fier aux premières conclusions. Quelque chose ne va pas et il faut le découvrir !"
   ]
  },
  {
   "cell_type": "markdown",
   "id": "3d088a9a-949c-4fdc-a51e-824635f073d7",
   "metadata": {},
   "source": [
    "# Partie 2 : Votre enquête"
   ]
  },
  {
   "cell_type": "markdown",
   "id": "6e3234a8-2a54-4ef2-86fd-530fb7e04523",
   "metadata": {},
   "source": [
    "Le dossier a été reconstitué. Le suspect numéro 1 a été interpellé. Commencez par voir sa déposition et menez votre enquête !"
   ]
  },
  {
   "cell_type": "code",
   "execution_count": null,
   "id": "cdac5d0b-c8cf-4322-91cc-8c578fd56a80",
   "metadata": {},
   "outputs": [],
   "source": []
  },
  {
   "cell_type": "code",
   "execution_count": null,
   "id": "eb6be840-637a-4b1a-ae30-bcf77fb6073b",
   "metadata": {},
   "outputs": [],
   "source": []
  },
  {
   "cell_type": "code",
   "execution_count": null,
   "id": "85932c8d-b3aa-440d-a69c-f4974884375a",
   "metadata": {},
   "outputs": [],
   "source": []
  }
 ],
 "metadata": {
  "kernelspec": {
   "display_name": "Python 3 (ipykernel)",
   "language": "python",
   "name": "python3"
  },
  "language_info": {
   "codemirror_mode": {
    "name": "ipython",
    "version": 3
   },
   "file_extension": ".py",
   "mimetype": "text/x-python",
   "name": "python",
   "nbconvert_exporter": "python",
   "pygments_lexer": "ipython3",
   "version": "3.11.7"
  }
 },
 "nbformat": 4,
 "nbformat_minor": 5
}
