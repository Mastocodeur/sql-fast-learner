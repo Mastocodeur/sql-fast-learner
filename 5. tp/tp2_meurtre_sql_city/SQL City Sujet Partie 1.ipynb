{
 "cells": [
  {
   "cell_type": "markdown",
   "id": "d32d66f4-d9bf-46ba-a428-eb0c99a3dc6a",
   "metadata": {},
   "source": [
    "# <center>Meurtre à SQL City Episode 1 </center>"
   ]
  },
  {
   "cell_type": "markdown",
   "id": "e6d75ee5-0129-4a5f-af0d-246e3c479f41",
   "metadata": {},
   "source": [
    "<div style=\"text-align: center;\">\n",
    "    <img src=\"../images/sqlcity.png\" width=\"500\" height=\"200\">\n",
    "</div>"
   ]
  },
  {
   "cell_type": "markdown",
   "id": "fe4aa16e-4cb4-4e83-b210-4cd4ae754cec",
   "metadata": {},
   "source": [
    "Un meurtre a eu lieu à SQL City ! SQL Murder Mystery est conçu pour être à la fois une leçon autodirigée pour apprendre les concepts et les commandes SQL et un jeu amusant pour les utilisateurs SQL expérimentés pour résoudre un crime intriguant.\n",
    "\n",
    "Un crime a eu lieu et le détective a besoin de votre aide. Le détective vous a remis le rapport de scène de crime, mais vous l'avez perdu. Vous vous souvenez vaguement que le crime était un ​meurtre​ qui a eu lieu le ​15 janvier 2018​ et qu'il a eu lieu à ​SQLCity."
   ]
  },
  {
   "cell_type": "markdown",
   "id": "5f22dc04",
   "metadata": {},
   "source": [
    "Commencez par récupérer le rapport de scène de crime correspondant dans la base de données du service de police `crime_scene_report`"
   ]
  },
  {
   "cell_type": "markdown",
   "id": "724d9929-42bf-4792-b91e-64fd3bbaee6c",
   "metadata": {},
   "source": [
    "https://www.kaggle.com/datasets/johnp47/sql-murder-mystery-database/data"
   ]
  },
  {
   "cell_type": "markdown",
   "id": "1cbf6ca9-4144-47b0-9140-3c827d1bc44d",
   "metadata": {},
   "source": [
    "Pour soumettre votre conclusion sur l'hypothèse, il faudra taper la commande : \n",
    "\n",
    "`%%sql\n",
    "INSERT INTO solution VALUES (1, 'Prénom Nom'); \n",
    "SELECT value FROM solution` en remplaçant par le nom du coupable."
   ]
  },
  {
   "cell_type": "markdown",
   "id": "fc27eea0-abd1-4c12-b2af-70f03038d4f6",
   "metadata": {},
   "source": [
    "# Partie 1 : Reconstitution du dossier "
   ]
  },
  {
   "cell_type": "markdown",
   "id": "d0160c1c-eb9b-42b0-bab0-c328f246db00",
   "metadata": {},
   "source": [
    "## Première étape : Lire la base de données et visualiser ce qu'elle contient"
   ]
  },
  {
   "cell_type": "code",
   "execution_count": 1,
   "id": "85c6a643-4875-49d1-9dac-c134cffbe3d7",
   "metadata": {},
   "outputs": [],
   "source": [
    "%load_ext sql"
   ]
  },
  {
   "cell_type": "code",
   "execution_count": 2,
   "id": "1d4d89b9-d664-4b6e-973c-134c5096e249",
   "metadata": {},
   "outputs": [],
   "source": [
    "%sql sqlite:///sql-murder-mystery.db"
   ]
  },
  {
   "cell_type": "code",
   "execution_count": 3,
   "id": "c3a74367-6708-4f36-9448-e12a27c641e4",
   "metadata": {},
   "outputs": [
    {
     "name": "stdout",
     "output_type": "stream",
     "text": [
      " * sqlite:///sql-murder-mystery.db\n",
      "Done.\n"
     ]
    },
    {
     "data": {
      "text/html": [
       "<table>\n",
       "    <thead>\n",
       "        <tr>\n",
       "            <th>name</th>\n",
       "        </tr>\n",
       "    </thead>\n",
       "    <tbody>\n",
       "        <tr>\n",
       "            <td>crime_scene_report</td>\n",
       "        </tr>\n",
       "        <tr>\n",
       "            <td>drivers_license</td>\n",
       "        </tr>\n",
       "        <tr>\n",
       "            <td>person</td>\n",
       "        </tr>\n",
       "        <tr>\n",
       "            <td>facebook_event_checkin</td>\n",
       "        </tr>\n",
       "        <tr>\n",
       "            <td>interview</td>\n",
       "        </tr>\n",
       "        <tr>\n",
       "            <td>get_fit_now_member</td>\n",
       "        </tr>\n",
       "        <tr>\n",
       "            <td>get_fit_now_check_in</td>\n",
       "        </tr>\n",
       "        <tr>\n",
       "            <td>income</td>\n",
       "        </tr>\n",
       "        <tr>\n",
       "            <td>solution</td>\n",
       "        </tr>\n",
       "    </tbody>\n",
       "</table>"
      ],
      "text/plain": [
       "[('crime_scene_report',),\n",
       " ('drivers_license',),\n",
       " ('person',),\n",
       " ('facebook_event_checkin',),\n",
       " ('interview',),\n",
       " ('get_fit_now_member',),\n",
       " ('get_fit_now_check_in',),\n",
       " ('income',),\n",
       " ('solution',)]"
      ]
     },
     "execution_count": 3,
     "metadata": {},
     "output_type": "execute_result"
    }
   ],
   "source": [
    "%%sql\n",
    "SELECT name FROM sqlite_master WHERE type='table';"
   ]
  },
  {
   "cell_type": "markdown",
   "id": "8203351b-9869-46b7-99cb-765e5bb60a44",
   "metadata": {},
   "source": [
    "## Deuxième étape : Récupérer le rapport de la scène de crime"
   ]
  },
  {
   "cell_type": "code",
   "execution_count": null,
   "id": "680dfed1-87d7-4d9a-8bd3-0b682a57022c",
   "metadata": {},
   "outputs": [],
   "source": []
  },
  {
   "cell_type": "code",
   "execution_count": null,
   "id": "c1672f42-f6fe-471c-972c-2d638ba7b841",
   "metadata": {},
   "outputs": [],
   "source": []
  },
  {
   "cell_type": "code",
   "execution_count": null,
   "id": "853421d3-4d56-46cd-9cfe-e709413bbbaf",
   "metadata": {},
   "outputs": [],
   "source": []
  },
  {
   "cell_type": "markdown",
   "id": "fdbba1ca-f30a-4d6c-b276-27a923ed3734",
   "metadata": {},
   "source": [
    "## Troisième étape : Se renseigner sur les témoignages"
   ]
  },
  {
   "cell_type": "code",
   "execution_count": null,
   "id": "594e301c-acaf-44b0-8cf0-6b27f6b49489",
   "metadata": {},
   "outputs": [],
   "source": []
  },
  {
   "cell_type": "code",
   "execution_count": null,
   "id": "ea17dfa6-1d49-4395-a2bd-627f1ae7da06",
   "metadata": {},
   "outputs": [],
   "source": []
  },
  {
   "cell_type": "code",
   "execution_count": null,
   "id": "7547f6f0-fb62-42b2-a5b4-7dede8683f93",
   "metadata": {},
   "outputs": [],
   "source": []
  },
  {
   "cell_type": "markdown",
   "id": "94672690-6d2a-4839-b005-f174b1c7e537",
   "metadata": {},
   "source": [
    "## Quatrième étape : Se renseigner sur les témoignages"
   ]
  },
  {
   "cell_type": "code",
   "execution_count": null,
   "id": "f49eb7b2-30ce-4506-a3b2-4624fb4f9654",
   "metadata": {},
   "outputs": [],
   "source": []
  },
  {
   "cell_type": "code",
   "execution_count": null,
   "id": "0640c2b8-d99d-4c5c-a71e-40e1db4e4187",
   "metadata": {},
   "outputs": [],
   "source": []
  },
  {
   "cell_type": "code",
   "execution_count": null,
   "id": "c840b63e-b32c-44dd-be0d-ba50bdd5446b",
   "metadata": {},
   "outputs": [],
   "source": []
  },
  {
   "cell_type": "markdown",
   "id": "796588db-8196-41d7-a056-9c3b3f6926f4",
   "metadata": {},
   "source": [
    "## Quatrième étape : Menons l'enquête !"
   ]
  },
  {
   "cell_type": "code",
   "execution_count": null,
   "id": "0c831d36-0466-4794-8a48-11c455a1dd6b",
   "metadata": {},
   "outputs": [],
   "source": []
  },
  {
   "cell_type": "code",
   "execution_count": null,
   "id": "eb6be840-637a-4b1a-ae30-bcf77fb6073b",
   "metadata": {},
   "outputs": [],
   "source": []
  },
  {
   "cell_type": "code",
   "execution_count": null,
   "id": "85932c8d-b3aa-440d-a69c-f4974884375a",
   "metadata": {},
   "outputs": [],
   "source": []
  },
  {
   "cell_type": "code",
   "execution_count": null,
   "id": "d0bb754d-d556-4899-91d0-5c3667885a82",
   "metadata": {},
   "outputs": [],
   "source": []
  }
 ],
 "metadata": {
  "kernelspec": {
   "display_name": "Python 3 (ipykernel)",
   "language": "python",
   "name": "python3"
  },
  "language_info": {
   "codemirror_mode": {
    "name": "ipython",
    "version": 3
   },
   "file_extension": ".py",
   "mimetype": "text/x-python",
   "name": "python",
   "nbconvert_exporter": "python",
   "pygments_lexer": "ipython3",
   "version": "3.11.7"
  }
 },
 "nbformat": 4,
 "nbformat_minor": 5
}
