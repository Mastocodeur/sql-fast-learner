{
 "cells": [
  {
   "cell_type": "markdown",
   "metadata": {},
   "source": [
    "# SQL 50\n",
    "\n",
    "Ce notebook retrace mon travail sur la plateforme leetcode qui propose 50 exercices pour s'entrainer en SQL : https://leetcode.com/studyplan/top-sql-50/"
   ]
  },
  {
   "cell_type": "markdown",
   "metadata": {},
   "source": [
    "Une marque ✅ indiquera que l'exercice a été réussi du premier coup. \n",
    "\n",
    "\n",
    "Une marque ⚠️ indiquera que je dois revoir l'exercice ou que je ne l'ai pas réussi du premier coup."
   ]
  },
  {
   "cell_type": "markdown",
   "metadata": {},
   "source": [
    "___________________"
   ]
  },
  {
   "cell_type": "markdown",
   "metadata": {},
   "source": [
    "## 📍Les exos Select"
   ]
  },
  {
   "cell_type": "markdown",
   "metadata": {},
   "source": [
    "##### 1757. Recyclable and Low Fat Products ✅"
   ]
  },
  {
   "cell_type": "markdown",
   "metadata": {},
   "source": [
    "<details>\n",
    "  <summary>Enoncé</summary>\n",
    "  \n",
    " Table: Products\n",
    "\n",
    "  ![table](images/exo1_table.png)\n",
    "\n",
    "  product_id is the primary key (column with unique values) for this table.\n",
    "  low_fats is an ENUM (category) of type ('Y', 'N') where 'Y' means this product is low fat and 'N' means it is not.\n",
    "  recyclable is an ENUM (category) of types ('Y', 'N') where 'Y' means this product is recyclable and 'N' means it is not.\n",
    "\n",
    "  Write a solution to find the ids of products that are both low fat and recyclable.\n",
    "\n",
    "  Return the result table in any order.\n",
    "\n",
    "  ![table](images/exo1_exemple_1.png)\n",
    "</details>"
   ]
  },
  {
   "cell_type": "markdown",
   "metadata": {},
   "source": [
    "<details>\n",
    "  <summary>Réponse </summary>\n",
    "  \n",
    "  SELECT product_id\n",
    "\n",
    "  FROM Products \n",
    "  \n",
    "  WHERE low_fats = \"Y\" AND recyclable = \"Y\";\n",
    "</details>"
   ]
  },
  {
   "cell_type": "markdown",
   "metadata": {},
   "source": [
    "##### 584. Find Customer Referee ✅"
   ]
  },
  {
   "cell_type": "markdown",
   "metadata": {},
   "source": [
    "<details>\n",
    "  <summary>Enoncé</summary>\n",
    "  \n",
    "  Table: Customer\n",
    "    \n",
    "  ![table](images/exo2_table.png)\n",
    "  \n",
    "  In SQL, id is the primary key column for this table.\n",
    "  Each row of this table indicates the id of a customer, their name, and the id of the customer who referred them.\n",
    "  \n",
    "  Find the names of the customer that are not referred by the customer with id = 2.\n",
    "  \n",
    "  Return the result table in any order.\n",
    "  \n",
    "  The result format is in the following example.\n",
    "\n",
    "  \n",
    "\n",
    "\n",
    "  ![table](images/exo2_exemple_2.png)\n",
    "</details>"
   ]
  },
  {
   "cell_type": "markdown",
   "metadata": {},
   "source": [
    "<details>\n",
    "  <summary>Réponse </summary>\n",
    "  \n",
    "    SELECT name\n",
    "    FROM Customer\n",
    "    WHERE referee_id != 2 OR referee_id IS NULL;\n",
    "</details>"
   ]
  },
  {
   "cell_type": "markdown",
   "metadata": {},
   "source": [
    "##### 595. Big Countries ✅"
   ]
  },
  {
   "cell_type": "markdown",
   "metadata": {},
   "source": [
    "<details>\n",
    "  <summary>Enoncé</summary>\n",
    "  \n",
    " Table: World\n",
    "\n",
    "  ![table](images/exo3_table.jpg)\n",
    "\n",
    "  name is the primary key (column with unique values) for this table.\n",
    "  Each row of this table gives information about the name of a country, the continent to which it belongs, its area, the population, and its GDP value.\n",
    "  \n",
    "\n",
    "  A country is big if:\n",
    "\n",
    "  it has an area of at least three million (i.e., 3000000 km2), or\n",
    "  it has a population of at least twenty-five million (i.e., 25000000).\n",
    "  Write a solution to find the name, population, and area of the big countries.\n",
    "\n",
    "  Return the result table in any order.\n",
    "\n",
    "  The result format is in the following example.\n",
    "\n",
    "  ![table](images/exo3_exemple.jpg)\n",
    "</details>"
   ]
  },
  {
   "cell_type": "markdown",
   "metadata": {},
   "source": [
    "<details>\n",
    "  <summary>Réponse </summary>\n",
    "  \n",
    "    SELECT name, population, area\n",
    "    FROM World\n",
    "    WHERE area >= 3000000 OR population >= 25000000;\n",
    "</details>"
   ]
  },
  {
   "cell_type": "markdown",
   "metadata": {},
   "source": [
    "##### 1148. Article Views I ✅"
   ]
  },
  {
   "cell_type": "markdown",
   "metadata": {},
   "source": [
    "<details>\n",
    "  <summary>Enoncé</summary>\n",
    "  \n",
    "   Table: Views\n",
    "\n",
    "  ![table](images/exo4_table.jpg)\n",
    "\n",
    "  There is no primary key (column with unique values) for this table, the table may have duplicate rows.\n",
    "  Each row of this table indicates that some viewer viewed an article (written by some author) on some date. \n",
    "  Note that equal author_id and viewer_id indicate the same person.\n",
    "    \n",
    "\n",
    "   Write a solution to find all the authors that viewed at least one of their own articles.\n",
    "\n",
    "   Return the result table sorted by `id` in ascending order. The result format is in the following example\n",
    "\n",
    "  ![table](images/exo4_exemple.jpg)\n",
    "</details>"
   ]
  },
  {
   "cell_type": "markdown",
   "metadata": {},
   "source": [
    "<details>\n",
    "  <summary>Réponse </summary>\n",
    "  \n",
    "    SELECT DISTINCT author_id as id\n",
    "    FROM Views\n",
    "    WHERE author_id = viewer_id\n",
    "    ORDER BY id;\n",
    "</details>"
   ]
  },
  {
   "cell_type": "markdown",
   "metadata": {},
   "source": [
    "##### 1683. Invalid Tweets ✅"
   ]
  },
  {
   "cell_type": "markdown",
   "metadata": {},
   "source": [
    "<details>\n",
    "  <summary>Enoncé</summary>\n",
    "  \n",
    "   Table: Tweets\n",
    "\n",
    "  ![table](images/exo5_table.jpg)\n",
    "\n",
    "  tweet_id is the primary key (column with unique values) for this table.\n",
    "  content consists of characters on an American Keyboard, and no other special characters.\n",
    "  This table contains all the tweets in a social media app.\n",
    " \n",
    "\n",
    "  Write a solution to find the IDs of the invalid tweets. The tweet is invalid if the number of characters used in the content of the tweet is strictly greater than `15`.\n",
    "\n",
    "  Return the result table in any order.\n",
    "\n",
    "  The result format is in the following example\n",
    "\n",
    "  ![table](images/exo5_exemple.jpg)\n",
    "</details>"
   ]
  },
  {
   "cell_type": "markdown",
   "metadata": {},
   "source": [
    "<details>\n",
    "  <summary>Réponse </summary>\n",
    "  \n",
    "    SELECT tweet_id\n",
    "    FROM Tweets\n",
    "    WHERE LENGTH(content)>15;\n",
    "</details>"
   ]
  },
  {
   "cell_type": "markdown",
   "metadata": {},
   "source": [
    "___________"
   ]
  },
  {
   "cell_type": "markdown",
   "metadata": {},
   "source": [
    "## 🔗Basic Joins"
   ]
  },
  {
   "cell_type": "markdown",
   "metadata": {},
   "source": [
    "##### 1378. Replace Employee ID With The Unique Identifier ✅"
   ]
  },
  {
   "cell_type": "markdown",
   "metadata": {},
   "source": [
    "<details>\n",
    "  <summary>Enoncé</summary>\n",
    "  \n",
    "   Table: Employees\n",
    "\n",
    "  ![table](images/exo6_table1.jpg)\n",
    "\n",
    "  id is the primary key (column with unique values) for this table.\n",
    "  Each row of this table contains the id and the name of an employee in a company.\n",
    "\n",
    "   Table: EmployeeUNI\n",
    "\n",
    "   ![table](images/exo6_table2.jpg)\n",
    "\n",
    "  (id, unique_id) is the primary key (combination of columns with unique values) for this table.\n",
    "  Each row of this table contains the id and the corresponding unique id of an employee in the company.\n",
    "\n",
    "  Write a solution to show the unique ID of each user, If a user does not have a unique ID replace just show null.\n",
    "\n",
    "  Return the result table in any order.\n",
    "\n",
    "  The result format is in the following example.\n",
    "\n",
    "  ![table](images/exo6_exemple1.jpg)\n",
    "  ![table](images/exo6_exemple2.jpg)\n",
    "\n",
    "</details>"
   ]
  },
  {
   "cell_type": "markdown",
   "metadata": {},
   "source": [
    "<details>\n",
    "  <summary>Réponse </summary>\n",
    "  \n",
    "    SELECT e.name, eu.unique_id\n",
    "    FROM Employees e\n",
    "    LEFT JOIN EmployeeUNI eu\n",
    "    ON e.id = eu.id;\n",
    "</details>"
   ]
  },
  {
   "cell_type": "markdown",
   "metadata": {},
   "source": [
    "##### 1068. Product Sales Analysis I ✅"
   ]
  },
  {
   "cell_type": "markdown",
   "metadata": {},
   "source": [
    "<details>\n",
    "  <summary>Enoncé</summary>\n",
    "  \n",
    "   Table: Sales\n",
    "\n",
    "  ![table](images/exo7_table1.jpg)\n",
    "\n",
    "  (sale_id, year) is the primary key (combination of columns with unique values) of this table.\n",
    "   product_id is a foreign key (reference column) to Product table.\n",
    "   Each row of this table shows a sale on the product product_id in a certain year.\n",
    "   Note that the price is per unit.\n",
    "\n",
    "   Table: Product\n",
    "\n",
    "   ![table](images/exo7_table2.jpg)\n",
    "\n",
    "  product_id is the primary key (column with unique values) of this table.\n",
    "  Each row of this table indicates the product name of each product.\n",
    "\n",
    "  Write a solution to report the `product_name`, `year`, and `price` for each `sale_id` in the Sales table.\n",
    "\n",
    "  Return the resulting table in any order.\n",
    "\n",
    "  The result format is in the following example.\n",
    "\n",
    "  ![table](images/exo7_exemple1.jpg)\n",
    "  ![table](images/exo7_exemple2.jpg)\n",
    "\n",
    "</details>"
   ]
  },
  {
   "cell_type": "markdown",
   "metadata": {},
   "source": [
    "<details>\n",
    "  <summary>Réponse </summary>\n",
    "  \n",
    "    SELECT p.product_name, s.year, s.price\n",
    "    FROM Product p\n",
    "    RIGHT JOIN Sales s\n",
    "    ON p.product_id = s.product_id;\n",
    "</details>"
   ]
  },
  {
   "cell_type": "markdown",
   "metadata": {},
   "source": [
    "##### 1581. Customer Who Visited but Did Not Make Any Transactions ⚠️"
   ]
  },
  {
   "cell_type": "markdown",
   "metadata": {},
   "source": [
    "<details>\n",
    "  <summary>Enoncé</summary>\n",
    "  \n",
    "   Table: Visits\n",
    "\n",
    "  ![table](images/exo8_table1.jpg)\n",
    "\n",
    "  visit_id is the column with unique values for this table.\n",
    "  This table contains information about the customers who visited the mall\n",
    "\n",
    "   Table: Transaction\n",
    "\n",
    "   ![table](images/exo8_table2.jpg)\n",
    "\n",
    "  transaction_id is column with unique values for this table.\n",
    "  This table contains information about the transactions made during the visit_id. \n",
    "\n",
    "  Write a solution to find the IDs of the users who visited without making any transactions and the number of times they made these types of visits.\n",
    "\n",
    "  Return the result table sorted in any order.\n",
    "\n",
    "  The result format is in the following example.\n",
    "\n",
    "  ![table](images/exo8_exemple1.jpg)\n",
    "  ![table](images/exo8_exemple2.jpg)\n",
    "\n",
    "</details>"
   ]
  },
  {
   "cell_type": "markdown",
   "metadata": {},
   "source": [
    "<details>\n",
    "  <summary>Réponse </summary>\n",
    "  \n",
    "    SELECT v.customer_id, COUNT(v.visit_id) AS count_no_trans\n",
    "    FROM Visits v\n",
    "    LEFT JOIN Transactions t\n",
    "    ON v.visit_id = t.visit_id\n",
    "    WHERE t.transaction_id IS NULL\n",
    "    GROUP BY v.customer_id;\n",
    "</details>"
   ]
  },
  {
   "cell_type": "markdown",
   "metadata": {},
   "source": [
    "##### 197. Rising Temperature ⚠️"
   ]
  },
  {
   "cell_type": "markdown",
   "metadata": {},
   "source": [
    "<details>\n",
    "  <summary>Enoncé</summary>\n",
    "  \n",
    "   Table: Weather\n",
    "\n",
    "  ![table](images/exo9_table.jpg)\n",
    "\n",
    "  id is the column with unique values for this table.\n",
    "  There are no different rows with the same recordDate.\n",
    "  This table contains information about the temperature on a certain day.\n",
    "\n",
    "   Write a solution to find all dates' id with higher temperatures compared to its previous dates (yesterday).\n",
    "\n",
    "   Return the result table in any order.\n",
    "\n",
    "   The result format is in the following example.\n",
    "\n",
    "  ![table](images/exo9_exemple.jpg)\n",
    "\n",
    "</details>"
   ]
  },
  {
   "cell_type": "markdown",
   "metadata": {},
   "source": [
    "<details>\n",
    "  <summary>Réponse </summary>\n",
    "  \n",
    "    SELECT w.id\n",
    "    FROM Weather w\n",
    "    LEFT JOIN Weather w1\n",
    "    ON w.recordDate = DATE_ADD(w1.recordDate, INTERVAL 1 DAY)\n",
    "    WHERE w.temperature>w1.temperature;\n",
    "\n",
    "   OU\n",
    "    \n",
    "    SELECT w1.id\n",
    "    FROM Weather w1, Weather w2\n",
    "    WHERE DATEDIFF(w1.recordDate, w2.recordDate) = 1 AND w1.temperature > w2.temperature;\n",
    "</details>"
   ]
  },
  {
   "cell_type": "markdown",
   "metadata": {},
   "source": [
    "##### 1661. Average Time of Process per Machine ✅"
   ]
  },
  {
   "cell_type": "markdown",
   "metadata": {},
   "source": [
    "<details>\n",
    "  <summary>Enoncé</summary>\n",
    "  \n",
    "   Table: Activity\n",
    "\n",
    "  ![table](images/exo10_table.jpg)\n",
    "\n",
    "  The table shows the user activities for a factory website.\n",
    "  (machine_id, process_id, activity_type) is the primary key (combination of columns with unique values) of this table.\n",
    "  machine_id is the ID of a machine.\n",
    "  process_id is the ID of a process running on the machine with ID machine_id.\n",
    "  activity_type is an ENUM (category) of type ('start', 'end').\n",
    "  timestamp is a float representing the current time in seconds.\n",
    "  'start' means the machine starts the process at the given timestamp and 'end' means the machine ends the process at the given timestamp.\n",
    "  The 'start' timestamp will always be before the 'end' timestamp for every (machine_id, process_id) pair.\n",
    "  It is guaranteed that each (machine_id, process_id) pair has a 'start' and 'end' timestamp.\n",
    "\n",
    "  There is a factory website that has several machines each running the same number of processes. Write a solution to find the average time each machine takes to complete a process.\n",
    "\n",
    "  The time to complete a process is the 'end' timestamp minus the 'start' timestamp. The average time is calculated by the total time to complete every process on the machine divided by the number of processes that were run.\n",
    "\n",
    "  The resulting table should have the machine_id along with the average time as processing_time, which should be rounded to 3 decimal places.\n",
    "\n",
    "  Return the result table in any order.\n",
    "\n",
    "  The result format is in the following example.\n",
    "\n",
    "  ![table](images/exo10_exemple1.jpg)\n",
    "\n",
    "  ![table](images/exo10_exemple2.jpg)\n",
    "\n",
    "</details>"
   ]
  },
  {
   "cell_type": "markdown",
   "metadata": {},
   "source": [
    "<details>\n",
    "  <summary>Réponse </summary>\n",
    "  \n",
    "    SELECT a.machine_id, ROUND(AVG(a2.timestamp-a.timestamp),3) as processing_time\n",
    "    FROM Activity a, Activity a2\n",
    "    WHERE a.machine_id = a2.machine_id AND a.activity_type = 'start' AND a2.activity_type = 'end'\n",
    "    GROUP BY machine_id\n",
    "\n",
    "   OU\n",
    "    \n",
    "    # Write your MySQL query statement below\n",
    "    SELECT a.machine_id, ROUND(AVG(b.timestamp-a.timestamp),3) AS processing_time\n",
    "    FROM Activity a\n",
    "    JOIN Activity b\n",
    "    ON a.machine_id = b.machine_id\n",
    "    AND a.process_id = b.process_id\n",
    "    AND a.activity_type = 'start'\n",
    "    AND b.activity_type = 'end'\n",
    "    GROUP BY machine_id;\n",
    "</details>"
   ]
  },
  {
   "cell_type": "markdown",
   "metadata": {},
   "source": [
    "##### 577. Employee Bonus ✅"
   ]
  },
  {
   "cell_type": "markdown",
   "metadata": {},
   "source": [
    "<details>\n",
    "  <summary>Enoncé</summary>\n",
    "  \n",
    "   Table: Employee\n",
    "\n",
    "  ![table](images/exo11_table1.jpg)\n",
    "\n",
    "  empId is the column with unique values for this table.\n",
    "  Each row of this table indicates the name and the ID of an employee in addition to their salary and the id of their manager.\n",
    "\n",
    "    Table: Bonus\n",
    "\n",
    "  ![table](images/exo11_table2.jpg)\n",
    "\n",
    "  empId is the column of unique values for this table.\n",
    "  empId is a foreign key (reference column) to empId from the Employee table.\n",
    "  Each row of this table contains the id of an employee and their respective bonus.\n",
    "\n",
    "   Write a solution to report the name and bonus amount of each employee with a bonus less than 1000.\n",
    "\n",
    "   Return the result table in any order.\n",
    "\n",
    "   The result format is in the following example.\n",
    "\n",
    "  ![table](images/exo11_exemple.jpg)\n",
    "\n",
    "</details>"
   ]
  },
  {
   "cell_type": "markdown",
   "metadata": {},
   "source": [
    "<details>\n",
    "  <summary>Réponse </summary>\n",
    "  \n",
    "    SELECT e.name, b.bonus\n",
    "    FROM Employee e\n",
    "    LEFT JOIN Bonus b\n",
    "    ON e.empId = b.empId\n",
    "    WHERE b.bonus < 1000 OR b.bonus IS NULL;\n",
    "\n",
    "</details>"
   ]
  },
  {
   "cell_type": "markdown",
   "metadata": {},
   "source": [
    "##### 1280. Students and Examinations ✅"
   ]
  },
  {
   "cell_type": "markdown",
   "metadata": {},
   "source": [
    "<details>\n",
    "  <summary>Enoncé</summary>\n",
    "  \n",
    "   Table: Students\n",
    "\n",
    "  ![table](images/exo12_table1.jpg)\n",
    "\n",
    "  student_id is the primary key (column with unique values) for this table.\n",
    "  Each row of this table contains the ID and the name of one student in the school.\n",
    "\n",
    "    Table: Subjects\n",
    "\n",
    "  ![table](images/exo12_table2.jpg)\n",
    "\n",
    "  subject_name is the primary key (column with unique values) for this table.\n",
    "  Each row of this table contains the name of one subject in the school.\n",
    "\n",
    "  Table: Examinations\n",
    "\n",
    "  ![table](images/exo12_table3.jpg)\n",
    "\n",
    "  There is no primary key (column with unique values) for this table. It may contain duplicates.\n",
    "  Each student from the Students table takes every course from the Subjects table.\n",
    "  Each row of this table indicates that a student with ID student_id attended the exam of subject_name.\n",
    "\n",
    "   Write a solution to find the number of times each student attended each exam.\n",
    "\n",
    "   Return the result table ordered by student_id and subject_name.\n",
    "\n",
    "   The result format is in the following example.\n",
    "\n",
    "  ![table](images/exo12_example1.jpg)\n",
    "\n",
    "  ![table](images/exo12_example2.jpg)\n",
    "\n",
    "  ![table](images/exo12_example3.jpg)\n",
    "\n",
    "</details>"
   ]
  },
  {
   "cell_type": "markdown",
   "metadata": {},
   "source": [
    "<details>\n",
    "  <summary>Réponse </summary>\n",
    "  \n",
    "    SELECT s.student_id,s.student_name,su.subject_name,COUNT(e.student_id) AS attended_exams\n",
    "    FROM Students s\n",
    "    CROSS JOIN Subjects su\n",
    "    LEFT JOIN Examinations e\n",
    "    ON s.student_id = e.student_id AND su.subject_name = e.subject_name\n",
    "    GROUP BY s.student_id, s.student_name, su.subject_name\n",
    "    ORDER BY s.student_id, su.subject_name;\n",
    "\n",
    "</details>"
   ]
  },
  {
   "cell_type": "markdown",
   "metadata": {},
   "source": [
    "##### 570. Managers with at Least 5 Direct Reports ⚠️"
   ]
  },
  {
   "cell_type": "markdown",
   "metadata": {},
   "source": [
    "<details>\n",
    "  <summary>Enoncé</summary>\n",
    "  \n",
    "   Table: Employee\n",
    "\n",
    "  ![table](images/exo13_table.jpg)\n",
    "\n",
    "  id is the primary key (column with unique values) for this table.\n",
    "  Each row of this table indicates the name of an employee, their department, and the id of their manager.\n",
    "  If managerId is null, then the employee does not have a manager.\n",
    "  No employee will be the manager of themself. \n",
    "\n",
    "\n",
    "   Write a solution to find managers with at least five direct reports.\n",
    "\n",
    "   Return the result table in any order.\n",
    "\n",
    "   The result format is in the following example.\n",
    "\n",
    "  ![table](images/exo13_exemple.jpg)\n",
    "\n",
    "</details>"
   ]
  },
  {
   "cell_type": "markdown",
   "metadata": {},
   "source": [
    "<details>\n",
    "  <summary>Réponse </summary>\n",
    "  \n",
    "    SELECT e.name\n",
    "    FROM Employee e\n",
    "    JOIN Employee m\n",
    "    ON e.id = m.managerId\n",
    "    GROUP BY e.id, e.name\n",
    "    HAVING COUNT(e.id) >= 5;\n",
    "\n",
    "</details>"
   ]
  },
  {
   "cell_type": "markdown",
   "metadata": {},
   "source": [
    "##### 1934. Confirmation Rate"
   ]
  },
  {
   "cell_type": "markdown",
   "metadata": {},
   "source": [
    "<details>\n",
    "  <summary>Enoncé</summary>\n",
    "  \n",
    "   Table: Signups\n",
    "\n",
    "  ![table](images/exo14_table1.jpg)\n",
    "\n",
    "  user_id is the column of unique values for this table.\n",
    "  Each row contains information about the signup time for the user with ID user_id.\n",
    "\n",
    "  Table: Confirmations\n",
    "\n",
    "  ![table](images/exo14_table2.jpg)\n",
    "\n",
    "  (user_id, time_stamp) is the primary key (combination of columns with unique values) for this table.\n",
    "  user_id is a foreign key (reference column) to the Signups table.\n",
    "  action is an ENUM (category) of the type ('confirmed', 'timeout')\n",
    "  Each row of this table indicates that the user with ID user_id requested a confirmation message at time_stamp and that confirmation message was either confirmed ('confirmed') or expired without confirming ('timeout').\n",
    "\n",
    "   The confirmation rate of a user is the number of 'confirmed' messages divided by the total number of requested confirmation messages. The confirmation rate of a user that did not request any confirmation messages is 0. Round the confirmation rate to two decimal places.\n",
    "\n",
    "   Write a solution to find the confirmation rate of each user.\n",
    "\n",
    "   Return the result table in any order.\n",
    "\n",
    "   The result format is in the following example.\n",
    "\n",
    "  ![table](images/exo14_example1.jpg)\n",
    "\n",
    "  ![table](images/exo14_example2.jpg)\n",
    "\n",
    "</details>"
   ]
  },
  {
   "cell_type": "markdown",
   "metadata": {},
   "source": [
    "<details>\n",
    "  <summary>Réponse </summary>\n",
    "  \n",
    "    SELECT \n",
    "    s.user_id, \n",
    "    COALESCE(ROUND(\n",
    "        COALESCE(SUM(CASE WHEN c.action = 'confirmed' THEN 1 ELSE 0 END), 0) \n",
    "        / NULLIF(COUNT(c.action), 0), \n",
    "        2\n",
    "    ),0) AS confirmation_rate\n",
    "    FROM \n",
    "        Signups s\n",
    "    LEFT JOIN \n",
    "        Confirmations c\n",
    "    ON \n",
    "        s.user_id = c.user_id\n",
    "    GROUP BY \n",
    "        s.user_id;\n",
    "\n",
    "   OR\n",
    "\n",
    "    SELECT s.user_id, round(avg(if(c.action=\"confirmed\",1,0)),2) as confirmation_rate\n",
    "    FROM Signups as s \n",
    "    LEFT JOIN Confirmations as c \n",
    "    ON s.user_id= c.user_id \n",
    "    GROUP BY user_id;\n",
    "\n",
    "</details>"
   ]
  },
  {
   "cell_type": "markdown",
   "metadata": {},
   "source": [
    "______________"
   ]
  },
  {
   "cell_type": "markdown",
   "metadata": {},
   "source": [
    "## Basic Aggregate Functions"
   ]
  },
  {
   "cell_type": "markdown",
   "metadata": {},
   "source": [
    "##### 620. Not Boring Movies"
   ]
  },
  {
   "cell_type": "markdown",
   "metadata": {},
   "source": [
    "<details>\n",
    "  <summary>Enoncé</summary>\n",
    "  \n",
    "   Table: Cinema\n",
    "\n",
    "  ![table](images/exo15_table.jpg)\n",
    "\n",
    "  Write a solution to report the movies with an odd-numbered ID and a description that is not \"boring\".\n",
    "\n",
    "  Return the result table ordered by rating in descending order.\n",
    "\n",
    "  The result format is in the following example.\n",
    "\n",
    "  ![table](images/exo15_exemple.jpg)\n",
    "\n",
    "</details>"
   ]
  },
  {
   "cell_type": "markdown",
   "metadata": {},
   "source": [
    "<details>\n",
    "  <summary>Réponse </summary>\n",
    "  \n",
    "    SELECT *\n",
    "    FROM Cinema\n",
    "    WHERE description!=\"boring\" \n",
    "    HAVING id%2=1\n",
    "    ORDER BY rating DESC\n",
    "    \n",
    "\n",
    "</details>"
   ]
  },
  {
   "cell_type": "markdown",
   "metadata": {},
   "source": [
    "##### 1251. Average Selling Price"
   ]
  },
  {
   "cell_type": "markdown",
   "metadata": {},
   "source": [
    "<details>\n",
    "  <summary>Enoncé</summary>\n",
    "  \n",
    "   Table: Prices\n",
    "\n",
    "  ![table](images/exo16_table1.jpg)\n",
    "\n",
    "  (product_id, start_date, end_date) is the primary key (combination of columns with unique values) for this table.\n",
    "  Each row of this table indicates the price of the product_id in the period from start_date to end_date.\n",
    "  For each product_id there will be no two overlapping periods. That means there will be no two intersecting periods for the same product_id.\n",
    "\n",
    "  Table: UnitsSold\n",
    "\n",
    "  ![table](images/exo16_table2.jpg)\n",
    "\n",
    "  This table may contain duplicate rows.\n",
    "  Each row of this table indicates the date, units, and product_id of each product sold. \n",
    "\n",
    "   Write a solution to find the average selling price for each product. average_price should be rounded to 2 decimal places. If a product does not have any sold units, its average selling price is assumed to be 0.\n",
    "\n",
    "    Return the result table in any order.\n",
    "\n",
    "    The result format is in the following example.\n",
    "\n",
    "  ![table](images/exo16_exemple1.jpg)\n",
    "\n",
    "  ![table](images/exo16_exemple2.jpg)\n",
    "\n",
    "</details>"
   ]
  },
  {
   "cell_type": "markdown",
   "metadata": {},
   "source": [
    "<details>\n",
    "  <summary>Réponse </summary>\n",
    "  \n",
    "    SELECT \n",
    "        p.product_id, \n",
    "        ROUND(IF(SUM(s.units) IS NULL, 0, SUM(s.units*p.price)/SUM(s.units)), 2) as average_price\n",
    "    FROM Prices p \n",
    "    LEFT JOIN UnitsSold s \n",
    "    ON p.product_id = s.product_id AND s.purchase_date BETWEEN p.start_date AND p.end_date\n",
    "    GROUP BY p.product_id;\n",
    "    \n",
    "\n",
    "</details>"
   ]
  },
  {
   "cell_type": "markdown",
   "metadata": {},
   "source": [
    "##### 1075. Project Employees I"
   ]
  },
  {
   "cell_type": "markdown",
   "metadata": {},
   "source": [
    "<details>\n",
    "  <summary>Enoncé</summary>\n",
    "  \n",
    "   Table: Project\n",
    "\n",
    "  ![table](images/exo17_table1.jpg)\n",
    "\n",
    "  Table: Employee\n",
    "\n",
    "  ![table](images/exo17_table2.jpg)\n",
    "\n",
    "  Write an SQL query that reports the average experience years of all the employees for each project, rounded to 2 digits.\n",
    "\n",
    "  Return the result table in any order.\n",
    "\n",
    "  The query result format is in the following example.\n",
    "  ![table](images/exo17_exemple1.jpg)\n",
    "\n",
    "  ![table](images/exo17_exemple2.jpg)\n",
    "\n",
    "</details>"
   ]
  },
  {
   "cell_type": "markdown",
   "metadata": {},
   "source": [
    "<details>\n",
    "  <summary>Réponse </summary>\n",
    "  \n",
    "    SELECT p.project_id, ROUND(AVG(e.experience_years), 2) as average_years\n",
    "    FROM Project p \n",
    "    LEFT JOIN Employee e\n",
    "    ON p.employee_id = e.employee_id\n",
    "    GROUP BY p.project_id;\n",
    "    \n",
    "\n",
    "</details>"
   ]
  },
  {
   "cell_type": "markdown",
   "metadata": {},
   "source": [
    "##### 1633. Percentage of Users Attended a Contest"
   ]
  },
  {
   "cell_type": "markdown",
   "metadata": {},
   "source": [
    "<details>\n",
    "  <summary>Enoncé</summary>\n",
    "  \n",
    "   Table: Users\n",
    "\n",
    "  ![table](images/exo18_table1.jpg)\n",
    "\n",
    "  Table: Register\n",
    "\n",
    "  ![table](images/exo18_table2.jpg)\n",
    "\n",
    "  Write a solution to find the percentage of the users registered in each contest rounded to two decimals.\n",
    "\n",
    "  Return the result table ordered by percentage in descending order. In case of a tie, order it by contest_id in ascending order.\n",
    "\n",
    "  The result format is in the following example.\n",
    "\n",
    "  ![table](images/exo18_exemple1.jpg)\n",
    "\n",
    "  ![table](images/exo18_exemple2.jpg)\n",
    "\n",
    "</details>"
   ]
  },
  {
   "cell_type": "markdown",
   "metadata": {},
   "source": [
    "<details>\n",
    "  <summary>Réponse </summary>\n",
    "  \n",
    "    SELECT r.contest_id, ROUND((COUNT(r.contest_id)/(SELECT COUNT(*) FROM Users))* 100, 2) as percentage\n",
    "    FROM Register r\n",
    "    LEFT JOIN Users u\n",
    "    ON r.user_id = u.user_id\n",
    "    GROUP BY r.contest_id\n",
    "    ORDER BY percentage DESC, r.contest_id ASC;\n",
    "    \n",
    "\n",
    "</details>"
   ]
  },
  {
   "cell_type": "markdown",
   "metadata": {},
   "source": [
    "##### 1211. Queries Quality and Percentage"
   ]
  },
  {
   "cell_type": "markdown",
   "metadata": {},
   "source": [
    "<details>\n",
    "  <summary>Enoncé</summary>\n",
    "  \n",
    "   Table: Queries\n",
    "\n",
    "  ![table](images/exo19_table1.jpg)\n",
    "\n",
    "  We define query quality as:\n",
    "\n",
    "  The average of the ratio between query rating and its position.\n",
    "\n",
    "  We also define poor query percentage as:\n",
    "\n",
    "  The percentage of all queries with rating less than 3.\n",
    "\n",
    "  Write a solution to find each query_name, the quality and poor_query_percentage.\n",
    "\n",
    "  Both quality and poor_query_percentage should be rounded to 2 decimal places.\n",
    "\n",
    "  Return the result table in any order.\n",
    "\n",
    "  The result format is in the following example.\n",
    "\n",
    "  ![table](images/exo19_exemple1.jpg)\n",
    "\n",
    "  ![table](images/exo19_exemple2.jpg)\n",
    "\n",
    "</details>"
   ]
  },
  {
   "cell_type": "markdown",
   "metadata": {},
   "source": [
    "<details>\n",
    "  <summary>Réponse </summary>\n",
    "  \n",
    "    SELECT \n",
    "    query_name, \n",
    "    ROUND(AVG(rating/position),2) as quality,\n",
    "    ROUND((SUM(CASE WHEN rating < 3 THEN 1 ELSE 0 END) * 100.0) / COUNT(*), 2)\n",
    "    as poor_query_percentage\n",
    "    FROM Queries\n",
    "    GROUP BY query_name;\n",
    "    \n",
    "\n",
    "</details>"
   ]
  },
  {
   "cell_type": "markdown",
   "metadata": {},
   "source": [
    "##### 1193. Monthly Transactions I"
   ]
  },
  {
   "cell_type": "markdown",
   "metadata": {},
   "source": [
    "<details>\n",
    "  <summary>Enoncé</summary>\n",
    "  \n",
    "   Table: Queries\n",
    "\n",
    "  ![table](images/exo20_table1.jpg)\n",
    "\n",
    "  Write an SQL query to find for each month and country, the number of transactions and their total amount, the number of approved transactions and their total amount.\n",
    "\n",
    "  Return the result table in any order.\n",
    "\n",
    "  The query result format is in the following example.\n",
    "\n",
    "  ![table](images/exo20_exemple1.jpg)\n",
    "\n",
    "</details>"
   ]
  },
  {
   "cell_type": "markdown",
   "metadata": {},
   "source": [
    "<details>\n",
    "  <summary>Réponse </summary>\n",
    "  \n",
    "    SELECT \n",
    "      DATE_FORMAT(trans_date, '%Y-%m') as month,   \n",
    "      country, \n",
    "      COUNT(id) as trans_count, \n",
    "      SUM(CASE WHEN state=\"approved\" THEN 1 ELSE 0 END) as approved_count, \n",
    "      SUM(amount) as trans_µtotal_amount, \n",
    "      SUM(CASE WHEN state=\"approved\" THEN amount ELSE 0 END) as approved_total_amount \n",
    "    FROM Transactions\n",
    "    GROUP BY month, country;\n",
    "    \n",
    "\n",
    "</details>"
   ]
  },
  {
   "cell_type": "markdown",
   "metadata": {},
   "source": [
    "##### 1174. Immediate Food Delivery II"
   ]
  },
  {
   "cell_type": "markdown",
   "metadata": {},
   "source": [
    "<details>\n",
    "  <summary>Enoncé</summary>\n",
    "  \n",
    "   Table: Delivery\n",
    "\n",
    "  ![table](images/exo21_table1.jpg)\n",
    "\n",
    "  If the customer's preferred delivery date is the same as the order date, then the order is called immediate; otherwise, it is called scheduled.\n",
    "\n",
    "  The first order of a customer is the order with the earliest order date that the customer made. It is guaranteed that a customer has precisely one first order.\n",
    "\n",
    "  Write a solution to find the percentage of immediate orders in the first orders of all customers, rounded to 2 decimal places.\n",
    "\n",
    "  The result format is in the following example.\n",
    "\n",
    "  ![table](images/exo21_exemple1.jpg)\n",
    "\n",
    "</details>"
   ]
  },
  {
   "cell_type": "markdown",
   "metadata": {},
   "source": [
    "<details>\n",
    "  <summary>Réponse </summary>\n",
    "  \n",
    "    SELECT \n",
    "        ROUND(AVG(order_date = customer_pref_delivery_date)*100, 2) AS immediate_percentage\n",
    "    FROM Delivery\n",
    "    WHERE (customer_id, order_date) IN (\n",
    "        SELECT customer_id, min(order_date) \n",
    "        FROM Delivery\n",
    "        GROUP BY customer_id);\n",
    "    \n",
    "\n",
    "</details>"
   ]
  },
  {
   "cell_type": "markdown",
   "metadata": {},
   "source": [
    "##### 550. Game Play Analysis IV"
   ]
  },
  {
   "cell_type": "markdown",
   "metadata": {},
   "source": [
    "<details>\n",
    "  <summary>Enoncé</summary>\n",
    "  \n",
    "   Table: Activity\n",
    "\n",
    "  ![table](images/exo22_table1.jpg)\n",
    "\n",
    "  Write a solution to report the fraction of players that logged in again on the day after the day they first logged in, rounded to 2 decimal places. In other words, you need to count the number of players that logged in for at least two consecutive days starting from their first login date, then divide that number by the total number of players.\n",
    "\n",
    "  The result format is in the following example.\n",
    "\n",
    " \n",
    "\n",
    "  ![table](images/exo22_exemple1.jpg)\n",
    "\n",
    "</details>"
   ]
  },
  {
   "cell_type": "markdown",
   "metadata": {},
   "source": [
    "<details>\n",
    "  <summary>Réponse </summary>\n",
    "  \n",
    "    # First, let's store the first login date of each player.\n",
    "    WITH temp AS (\n",
    "        SELECT player_id, MIN(event_date) AS first_login_date\n",
    "        FROM Activity \n",
    "        GROUP BY player_id\n",
    "    )\n",
    "\n",
    "    # Calculate the fraction of players who logged in exactly one day after their first login.\n",
    "    SELECT \n",
    "        ROUND(\n",
    "            SUM(DATEDIFF(a.event_date, t.first_login_date) = 1) / COUNT(DISTINCT a.player_id), 2\n",
    "        ) AS fraction\n",
    "    FROM Activity a\n",
    "    JOIN temp t ON a.player_id = t.player_id;\n",
    "    \n",
    "\n",
    "</details>"
   ]
  },
  {
   "cell_type": "markdown",
   "metadata": {},
   "source": [
    "## Sorting and Grouping"
   ]
  },
  {
   "cell_type": "markdown",
   "metadata": {},
   "source": [
    "##### 2356. Number of Unique Subjects Taught by Each Teacher ✅"
   ]
  },
  {
   "cell_type": "markdown",
   "metadata": {},
   "source": [
    "<details>\n",
    "  <summary>Enoncé</summary>\n",
    "  \n",
    "   Table: Teacher\n",
    "\n",
    "  ![table](images/exo23_table1.jpg)\n",
    "\n",
    "  Write a solution to calculate the number of unique subjects each teacher teaches in the university.\n",
    "\n",
    "  Return the result table in any order.\n",
    "\n",
    "  The result format is shown in the following example.\n",
    "\n",
    " \n",
    "\n",
    "  ![table](images/exo23_exemple1.jpg)\n",
    "\n",
    "</details>"
   ]
  },
  {
   "cell_type": "markdown",
   "metadata": {},
   "source": [
    "<details>\n",
    "  <summary>Réponse </summary>\n",
    "  \n",
    "    SELECT teacher_id, COUNT(DISTINCT subject_id) as cnt\n",
    "    FROM Teacher\n",
    "    GROUP BY teacher_id;\n",
    "    \n",
    "\n",
    "</details>"
   ]
  },
  {
   "cell_type": "markdown",
   "metadata": {},
   "source": [
    "##### 1141. User Activity for the Past 30 Days I ✅"
   ]
  },
  {
   "cell_type": "markdown",
   "metadata": {},
   "source": [
    "<details>\n",
    "  <summary>Enoncé</summary>\n",
    "  \n",
    "   Table: Teacher\n",
    "\n",
    "  ![table](images/exo24_table1.jpg)\n",
    "\n",
    "  Write a solution to find the daily active user count for a period of 30 days ending 2019-07-27 inclusively. A user was active on someday if they made at least one activity on that day.\n",
    "\n",
    "  Return the result table in any order.\n",
    "\n",
    "  The result format is in the following example.\n",
    "\n",
    " \n",
    "\n",
    "  ![table](images/exo24_exemple1.jpg)\n",
    "\n",
    "</details>"
   ]
  },
  {
   "cell_type": "markdown",
   "metadata": {},
   "source": [
    "<details>\n",
    "  <summary>Réponse </summary>\n",
    "  \n",
    "    SELECT activity_date as day, COUNT(DISTINCT user_id) as active_users\n",
    "    FROM Activity\n",
    "    WHERE \n",
    "        (\n",
    "        activity_type = \"scroll_down\" \n",
    "        OR activity_type = \"send_message\" \n",
    "        OR activity_type =\"open_session\" \n",
    "        OR activity_type =\"end_session\"\n",
    "        ) \n",
    "        AND \n",
    "        DATEDIFF(\"2019-07-27\", activity_date)<DATEDIFF(\"2019-07-27\", \"2019-06-28\")+1\n",
    "        AND activity_date <= \"2019-07-27\"\n",
    "    GROUP BY day;\n",
    "    \n",
    "\n",
    "</details>"
   ]
  },
  {
   "cell_type": "markdown",
   "metadata": {},
   "source": [
    "##### 1070. Product Sales Analysis III "
   ]
  },
  {
   "cell_type": "markdown",
   "metadata": {},
   "source": [
    "<details>\n",
    "  <summary>Enoncé</summary>\n",
    "  \n",
    "   Table: Sales\n",
    "\n",
    "  ![table](images/exo25_table1.jpg)\n",
    "\n",
    "   Table: Product\n",
    "\n",
    "  ![table](images/exo25_table2.jpg)\n",
    "\n",
    "  Write a solution to select the product id, year, quantity, and price for the first year of every product sold.\n",
    "\n",
    "  Return the resulting table in any order.\n",
    "\n",
    "  The result format is in the following example.\n",
    "\n",
    " \n",
    "\n",
    " \n",
    "\n",
    "  ![table](images/exo25_exemple1.jpg)\n",
    "\n",
    "</details>"
   ]
  },
  {
   "cell_type": "markdown",
   "metadata": {},
   "source": [
    "<details>\n",
    "  <summary>Réponse </summary>\n",
    "  \n",
    "  Avec sous-requête :\n",
    "\n",
    "      select product_id, year as first_year, quantity, price \n",
    "      from sales where (product_id, year) in (\n",
    "          select product_id, min(year)\n",
    "          from sales\n",
    "          group by product_id\n",
    ")\n",
    "\n",
    "\n",
    "\n",
    "  Avec CTE :\n",
    "\n",
    "        WITH FirstYear AS (\n",
    "        SELECT product_id, MIN(year) AS first_year\n",
    "        FROM Sales\n",
    "        GROUP BY product_id\n",
    "            )\n",
    "\n",
    "        SELECT s.product_id, s.year as first_year, s.quantity, s.price\n",
    "        FROM Sales s \n",
    "        JOIN FirstYear n\n",
    "        ON s.product_id = n.product_id AND s.year = n.first_year\n",
    "        ORDER BY first_year\n",
    "    \n",
    "\n",
    "</details>"
   ]
  },
  {
   "cell_type": "markdown",
   "metadata": {},
   "source": [
    "##### 596. Classes More Than 5 Students ✅"
   ]
  },
  {
   "cell_type": "markdown",
   "metadata": {},
   "source": [
    "<details>\n",
    "  <summary>Enoncé</summary>\n",
    "  \n",
    "   Table: Courses\n",
    "\n",
    "  ![table](images/exo26_table1.jpg)\n",
    "  \n",
    "  Write a solution to find all the classes that have at least five students.\n",
    "\n",
    "  Return the result table in any order.\n",
    "\n",
    "  The result format is in the following example.\n",
    "\n",
    " \n",
    "\n",
    " \n",
    "\n",
    "  ![table](images/exo26_exemple1.jpg)\n",
    "\n",
    "</details>"
   ]
  },
  {
   "cell_type": "markdown",
   "metadata": {},
   "source": [
    "<details>\n",
    "  <summary>Réponse </summary>\n",
    "  \n",
    "    SELECT class\n",
    "    FROM Courses\n",
    "    GROUP BY class\n",
    "    HAVING COUNT(class)>=5;\n",
    "\n",
    "</details>"
   ]
  },
  {
   "cell_type": "markdown",
   "metadata": {},
   "source": [
    "##### 1729. Find Followers Count ✅"
   ]
  },
  {
   "cell_type": "markdown",
   "metadata": {},
   "source": [
    "<details>\n",
    "  <summary>Enoncé</summary>\n",
    "  \n",
    "   Table: Followers\n",
    "\n",
    "  ![table](images/exo27_table1.jpg)\n",
    "  \n",
    "  Write a solution to find all the classes that have at least five students.\n",
    "\n",
    "  Return the result table in any order.\n",
    "\n",
    "  The result format is in the following example.\n",
    "\n",
    "\n",
    "  ![table](images/exo27_exemple1.jpg)\n",
    "\n",
    "</details>"
   ]
  },
  {
   "cell_type": "markdown",
   "metadata": {},
   "source": [
    "<details>\n",
    "  <summary>Réponse </summary>\n",
    "  \n",
    "    SELECT user_id, COUNT(follower_id) AS followers_count\n",
    "    FROM Followers \n",
    "    GROUP BY user_id\n",
    "    ORDER BY user_id;\n",
    "\n",
    "</details>"
   ]
  },
  {
   "cell_type": "markdown",
   "metadata": {},
   "source": [
    "##### 619. Biggest Single Number  ✅"
   ]
  },
  {
   "cell_type": "markdown",
   "metadata": {},
   "source": [
    "<details>\n",
    "  <summary>Enoncé</summary>\n",
    "  \n",
    "   Table: MyNumbers\n",
    "\n",
    "  ![table](images/exo28_table1.jpg)\n",
    "  \n",
    "  A single number is a number that appeared only once in the MyNumbers table.\n",
    "\n",
    "  Find the largest single number. If there is no single number, report null.\n",
    "\n",
    "  The result format is in the following example.\n",
    "\n",
    "\n",
    "  ![table](images/exo28_exemple1.jpg)\n",
    "\n",
    "  ![table](images/exo28_exemple2.jpg)\n",
    "</details>"
   ]
  },
  {
   "cell_type": "markdown",
   "metadata": {},
   "source": [
    "<details>\n",
    "  <summary>Réponse </summary>\n",
    "  \n",
    "    SELECT MAX(num) AS num\n",
    "    FROM (\n",
    "        SELECT num\n",
    "        FROM MyNumbers\n",
    "        GROUP BY num\n",
    "        HAVING COUNT(num) = 1\n",
    "    ) AS unique_numbers;\n",
    "\n",
    "    OR\n",
    "\n",
    "    SELECT num \n",
    "    FROM (\n",
    "        SELECT num \n",
    "        FROM MyNumbers\n",
    "        GROUP BY num\n",
    "        HAVING COUNT(num) = 1\n",
    "        UNION ALL\n",
    "        SELECT NULL) AS combined_results\n",
    "    ORDER BY num DESC\n",
    "    LIMIT 1;\n",
    "\n",
    "</details>"
   ]
  },
  {
   "cell_type": "markdown",
   "metadata": {},
   "source": [
    "##### 1045. Customers Who Bought All Products"
   ]
  },
  {
   "cell_type": "markdown",
   "metadata": {},
   "source": [
    "<details>\n",
    "  <summary>Enoncé</summary>\n",
    "  \n",
    "  \n",
    "\n",
    "  ![table](images/exo29_table1.jpg)\n",
    "  \n",
    "  Write a solution to report the customer ids from the Customer table that bought all the products in the Product table.\n",
    "\n",
    "  Return the result table in any order.\n",
    "\n",
    "  The result format is in the following example.\n",
    "\n",
    "\n",
    "  ![table](images/exo29_exemple1.jpg)\n",
    "\n",
    "</details>"
   ]
  },
  {
   "cell_type": "markdown",
   "metadata": {},
   "source": [
    "<details>\n",
    "  <summary>Réponse </summary>\n",
    "  \n",
    "    SELECT c.customer_id\n",
    "    FROM Customer c\n",
    "    JOIN Product p\n",
    "    ON c.product_key = p.product_key\n",
    "    GROUP BY c.customer_id\n",
    "    HAVING COUNT(DISTINCT c.product_key) = (SELECT COUNT(*) FROM Product);\n",
    "\n",
    "\n",
    "</details>"
   ]
  },
  {
   "cell_type": "markdown",
   "metadata": {},
   "source": [
    "## Advanced Select and Joins"
   ]
  },
  {
   "cell_type": "markdown",
   "metadata": {},
   "source": [
    "##### 1731. The Number of Employees Which Report to Each Employee ✅"
   ]
  },
  {
   "cell_type": "markdown",
   "metadata": {},
   "source": [
    "<details>\n",
    "  <summary>Enoncé</summary>\n",
    "  \n",
    "  \n",
    "\n",
    "  ![table](images/exo30_table1.jpg)\n",
    "  \n",
    "  For this problem, we will consider a manager an employee who has at least 1 other employee reporting to them.\n",
    "\n",
    "  Write a solution to report the ids and the names of all managers, the number of employees who report directly to them, and the average age of the reports rounded to the nearest integer.\n",
    "\n",
    "  Return the result table ordered by employee_id.\n",
    "\n",
    "  The result format is in the following example.\n",
    "\n",
    "\n",
    "  ![table](images/exo30_exemple1.jpg)\n",
    "\n",
    "\n",
    "  ![table](images/exo30_exemple2.jpg)\n",
    "\n",
    "</details>"
   ]
  },
  {
   "cell_type": "markdown",
   "metadata": {},
   "source": [
    "<details>\n",
    "  <summary>Réponse </summary>\n",
    "    \n",
    "    Ma solution :\n",
    "\n",
    "    SELECT e.employee_id, e.name, \n",
    "    (SELECT COUNT(e2.reports_to) FROM Employees e2 WHERE e2.reports_to = e.employee_id) AS reports_count, \n",
    "    ROUND((SELECT AVG(e3.age) FROM Employees e3 WHERE e3.reports_to = e.employee_id)  , 0) AS average_age\n",
    "    FROM Employees e\n",
    "    JOIN Employees e1\n",
    "    ON e.employee_id = e1.employee_id\n",
    "    GROUP BY e.employee_id\n",
    "    HAVING reports_count > 0\n",
    "    ORDER BY e.employee_id;\n",
    "\n",
    "    Solution optimisée : \n",
    "\n",
    "    SELECT \n",
    "    e1.employee_id,\n",
    "    e1.name,\n",
    "    count(e2.reports_to) as reports_count,\n",
    "    round(avg(e2.age)) as average_age \n",
    "    FROM employees e1 \n",
    "    JOIN employees e2 ON e1.employee_id=e2.reports_to \n",
    "    WHERE e2.reports_to is not null \n",
    "    GROUP BY e1.employee_id \n",
    "    ORDER BY e1.employee_id;\n",
    "\n",
    "</details>"
   ]
  },
  {
   "cell_type": "markdown",
   "metadata": {},
   "source": [
    "##### 1789. Primary Department for Each Employee"
   ]
  },
  {
   "cell_type": "markdown",
   "metadata": {},
   "source": [
    "<details>\n",
    "  <summary>Enoncé</summary>\n",
    "  \n",
    "  \n",
    "\n",
    "  ![table](images/exo31_table1.jpg)\n",
    "  \n",
    "  Employees can belong to multiple departments. When the employee joins other departments, they need to decide which department is their primary department. Note that when an employee belongs to only one department, their primary column is 'N'.\n",
    "\n",
    "  Write a solution to report all the employees with their primary department. For employees who belong to one department, report their only department.\n",
    "\n",
    "  Return the result table in any order.\n",
    "\n",
    "  The result format is in the following example.\n",
    "\n",
    "\n",
    "  ![table](images/exo31_exemple1.jpg)\n",
    "\n",
    "</details>"
   ]
  },
  {
   "cell_type": "markdown",
   "metadata": {},
   "source": [
    "<details>\n",
    "  <summary>Réponse </summary>\n",
    "    \n",
    "    Ma solution :\n",
    "\n",
    "    SELECT employee_id, department_id\n",
    "    FROM Employee\n",
    "    WHERE primary_flag = \"Y\" OR employee_id IN (SELECT employee_id \n",
    "                                                FROM Employee\n",
    "                                                GROUP BY employee_id\n",
    "                                                HAVING COUNT(employee_id)=1)\n",
    "\n",
    "</details>"
   ]
  },
  {
   "cell_type": "markdown",
   "metadata": {},
   "source": []
  }
 ],
 "metadata": {
  "language_info": {
   "name": "python"
  }
 },
 "nbformat": 4,
 "nbformat_minor": 2
}
